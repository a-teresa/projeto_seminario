{
 "cells": [
  {
   "cell_type": "code",
   "execution_count": 1,
   "id": "6eb61a85",
   "metadata": {},
   "outputs": [],
   "source": [
    "import pandas as pd\n",
    "from sqlalchemy import create_engine"
   ]
  },
  {
   "cell_type": "code",
   "execution_count": 2,
   "id": "4ea43fa6",
   "metadata": {},
   "outputs": [
    {
     "name": "stdout",
     "output_type": "stream",
     "text": [
      "1.4.22\n"
     ]
    }
   ],
   "source": [
    "#check sqlalchemy\n",
    "import sqlalchemy\n",
    "print (sqlalchemy.__version__ )"
   ]
  },
  {
   "cell_type": "code",
   "execution_count": 12,
   "id": "a708ca76",
   "metadata": {},
   "outputs": [
    {
     "data": {
      "text/plain": [
       "Index(['entry_date', 'property_type', 'Tipology', 'Condition', 'Location',\n",
       "       'Price', 'areas_sqm', 'euros/sqm', 'Latitude', 'Longitude',\n",
       "       'Location_2', 'CodPostal', 'quartos', 'Cod_Condition'],\n",
       "      dtype='object')"
      ]
     },
     "execution_count": 12,
     "metadata": {},
     "output_type": "execute_result"
    }
   ],
   "source": [
    "df.columns"
   ]
  },
  {
   "cell_type": "code",
   "execution_count": 15,
   "id": "baa159ba",
   "metadata": {},
   "outputs": [],
   "source": [
    "#load data from database\n",
    "def load_data():\n",
    "    engine = create_engine('sqlite:///casas.db')\n",
    "    df = pd.read_sql(\"SELECT * FROM casas\", engine) \n",
    "    X = df[['property_type', 'Tipology', 'Condition', 'Location', 'areas_sqm', 'quartos','Latitude', 'Longitude', 'CodPostal', 'Cod_Condition']]\n",
    "    y = df[['Price']]\n",
    "    return X, y"
   ]
  },
  {
   "cell_type": "code",
   "execution_count": 16,
   "id": "08e44a8e",
   "metadata": {},
   "outputs": [
    {
     "data": {
      "text/html": [
       "<div>\n",
       "<style scoped>\n",
       "    .dataframe tbody tr th:only-of-type {\n",
       "        vertical-align: middle;\n",
       "    }\n",
       "\n",
       "    .dataframe tbody tr th {\n",
       "        vertical-align: top;\n",
       "    }\n",
       "\n",
       "    .dataframe thead th {\n",
       "        text-align: right;\n",
       "    }\n",
       "</style>\n",
       "<table border=\"1\" class=\"dataframe\">\n",
       "  <thead>\n",
       "    <tr style=\"text-align: right;\">\n",
       "      <th></th>\n",
       "      <th>property_type</th>\n",
       "      <th>Tipology</th>\n",
       "      <th>Condition</th>\n",
       "      <th>Location</th>\n",
       "      <th>areas_sqm</th>\n",
       "      <th>quartos</th>\n",
       "      <th>Latitude</th>\n",
       "      <th>Longitude</th>\n",
       "      <th>CodPostal</th>\n",
       "      <th>Cod_Condition</th>\n",
       "    </tr>\n",
       "  </thead>\n",
       "  <tbody>\n",
       "    <tr>\n",
       "      <th>0</th>\n",
       "      <td>Apartments</td>\n",
       "      <td>T2</td>\n",
       "      <td>Used</td>\n",
       "      <td>Aveiro, Aradas</td>\n",
       "      <td>96</td>\n",
       "      <td>2</td>\n",
       "      <td>40.6175</td>\n",
       "      <td>-8.647778</td>\n",
       "      <td>3810</td>\n",
       "      <td>4</td>\n",
       "    </tr>\n",
       "    <tr>\n",
       "      <th>1</th>\n",
       "      <td>Apartments</td>\n",
       "      <td>T2</td>\n",
       "      <td>Used</td>\n",
       "      <td>Aveiro, Aradas</td>\n",
       "      <td>119</td>\n",
       "      <td>2</td>\n",
       "      <td>40.6175</td>\n",
       "      <td>-8.647778</td>\n",
       "      <td>3810</td>\n",
       "      <td>4</td>\n",
       "    </tr>\n",
       "    <tr>\n",
       "      <th>2</th>\n",
       "      <td>Apartments</td>\n",
       "      <td>T2</td>\n",
       "      <td>Used</td>\n",
       "      <td>Aveiro, Aradas</td>\n",
       "      <td>72</td>\n",
       "      <td>2</td>\n",
       "      <td>40.6175</td>\n",
       "      <td>-8.647778</td>\n",
       "      <td>3810</td>\n",
       "      <td>4</td>\n",
       "    </tr>\n",
       "    <tr>\n",
       "      <th>3</th>\n",
       "      <td>Apartments</td>\n",
       "      <td>T2</td>\n",
       "      <td>Used</td>\n",
       "      <td>Aveiro, Aradas</td>\n",
       "      <td>90</td>\n",
       "      <td>2</td>\n",
       "      <td>40.6175</td>\n",
       "      <td>-8.647778</td>\n",
       "      <td>3810</td>\n",
       "      <td>4</td>\n",
       "    </tr>\n",
       "    <tr>\n",
       "      <th>4</th>\n",
       "      <td>Apartments</td>\n",
       "      <td>T2</td>\n",
       "      <td>New</td>\n",
       "      <td>Aveiro, Aradas</td>\n",
       "      <td>126</td>\n",
       "      <td>2</td>\n",
       "      <td>40.6175</td>\n",
       "      <td>-8.647778</td>\n",
       "      <td>3810</td>\n",
       "      <td>6</td>\n",
       "    </tr>\n",
       "  </tbody>\n",
       "</table>\n",
       "</div>"
      ],
      "text/plain": [
       "  property_type Tipology Condition        Location  areas_sqm  quartos  \\\n",
       "0    Apartments       T2      Used  Aveiro, Aradas         96        2   \n",
       "1    Apartments       T2      Used  Aveiro, Aradas        119        2   \n",
       "2    Apartments       T2      Used  Aveiro, Aradas         72        2   \n",
       "3    Apartments       T2      Used  Aveiro, Aradas         90        2   \n",
       "4    Apartments       T2       New  Aveiro, Aradas        126        2   \n",
       "\n",
       "   Latitude  Longitude  CodPostal  Cod_Condition  \n",
       "0   40.6175  -8.647778       3810              4  \n",
       "1   40.6175  -8.647778       3810              4  \n",
       "2   40.6175  -8.647778       3810              4  \n",
       "3   40.6175  -8.647778       3810              4  \n",
       "4   40.6175  -8.647778       3810              6  "
      ]
     },
     "execution_count": 16,
     "metadata": {},
     "output_type": "execute_result"
    }
   ],
   "source": [
    "X.head()"
   ]
  },
  {
   "cell_type": "code",
   "execution_count": 17,
   "id": "9dfa2874",
   "metadata": {},
   "outputs": [
    {
     "data": {
      "text/html": [
       "<div>\n",
       "<style scoped>\n",
       "    .dataframe tbody tr th:only-of-type {\n",
       "        vertical-align: middle;\n",
       "    }\n",
       "\n",
       "    .dataframe tbody tr th {\n",
       "        vertical-align: top;\n",
       "    }\n",
       "\n",
       "    .dataframe thead th {\n",
       "        text-align: right;\n",
       "    }\n",
       "</style>\n",
       "<table border=\"1\" class=\"dataframe\">\n",
       "  <thead>\n",
       "    <tr style=\"text-align: right;\">\n",
       "      <th></th>\n",
       "      <th>Price</th>\n",
       "    </tr>\n",
       "  </thead>\n",
       "  <tbody>\n",
       "    <tr>\n",
       "      <th>0</th>\n",
       "      <td>145000</td>\n",
       "    </tr>\n",
       "    <tr>\n",
       "      <th>1</th>\n",
       "      <td>155000</td>\n",
       "    </tr>\n",
       "    <tr>\n",
       "      <th>2</th>\n",
       "      <td>118000</td>\n",
       "    </tr>\n",
       "    <tr>\n",
       "      <th>3</th>\n",
       "      <td>185000</td>\n",
       "    </tr>\n",
       "    <tr>\n",
       "      <th>4</th>\n",
       "      <td>295000</td>\n",
       "    </tr>\n",
       "  </tbody>\n",
       "</table>\n",
       "</div>"
      ],
      "text/plain": [
       "    Price\n",
       "0  145000\n",
       "1  155000\n",
       "2  118000\n",
       "3  185000\n",
       "4  295000"
      ]
     },
     "execution_count": 17,
     "metadata": {},
     "output_type": "execute_result"
    }
   ],
   "source": [
    "y.head()"
   ]
  },
  {
   "cell_type": "code",
   "execution_count": 18,
   "id": "63e225ee",
   "metadata": {},
   "outputs": [],
   "source": [
    "X,y = load_data()"
   ]
  },
  {
   "cell_type": "code",
   "execution_count": 19,
   "id": "03d6aa1a",
   "metadata": {},
   "outputs": [
    {
     "data": {
      "text/plain": [
       "((4180, 10), (4180, 1))"
      ]
     },
     "execution_count": 19,
     "metadata": {},
     "output_type": "execute_result"
    }
   ],
   "source": [
    "X.shape, y.shape"
   ]
  },
  {
   "cell_type": "code",
   "execution_count": null,
   "id": "6f90a53f",
   "metadata": {},
   "outputs": [],
   "source": [
    "# correr os modelos de machine learning\n",
    "# ir buscar as funções no notebook do Alexandre\n",
    "#o que não estiver dentro de uma função colocar"
   ]
  },
  {
   "cell_type": "code",
   "execution_count": null,
   "id": "1272ee5e",
   "metadata": {},
   "outputs": [],
   "source": [
    "#split data\n",
    "X_train, X_test, y_train, y_test = train_test_split(X,y,test_size=0.3, random_state=42)\n",
    "#etc."
   ]
  },
  {
   "cell_type": "code",
   "execution_count": null,
   "id": "f2177af4",
   "metadata": {},
   "outputs": [],
   "source": []
  },
  {
   "cell_type": "code",
   "execution_count": null,
   "id": "d2bb1653",
   "metadata": {},
   "outputs": [],
   "source": [
    "# desenvolver o mapa"
   ]
  },
  {
   "cell_type": "code",
   "execution_count": null,
   "id": "4859443e",
   "metadata": {},
   "outputs": [],
   "source": []
  },
  {
   "cell_type": "code",
   "execution_count": null,
   "id": "79d4ebf7",
   "metadata": {},
   "outputs": [],
   "source": []
  }
 ],
 "metadata": {
  "kernelspec": {
   "display_name": "my_env",
   "language": "python",
   "name": "my_env"
  },
  "language_info": {
   "codemirror_mode": {
    "name": "ipython",
    "version": 3
   },
   "file_extension": ".py",
   "mimetype": "text/x-python",
   "name": "python",
   "nbconvert_exporter": "python",
   "pygments_lexer": "ipython3",
   "version": "3.9.7"
  }
 },
 "nbformat": 4,
 "nbformat_minor": 5
}
