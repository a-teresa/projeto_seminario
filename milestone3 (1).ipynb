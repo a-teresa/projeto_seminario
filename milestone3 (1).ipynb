{
 "cells": [
  {
   "cell_type": "code",
   "execution_count": 10,
   "id": "2caed694",
   "metadata": {},
   "outputs": [],
   "source": [
    "import pandas as pd\n",
    "import matplotlib.pyplot as plt\n",
    "import numpy as np\n",
    "import seaborn as sns\n",
    "%matplotlib inline\n",
    "from sklearn.model_selection import train_test_split\n",
    "from sklearn.ensemble import AdaBoostRegressor\n",
    "from sklearn.tree import DecisionTreeRegressor\n",
    "from sklearn.ensemble import GradientBoostingRegressor\n",
    "from sklearn.datasets import make_regression\n",
    "from sklearn import linear_model\n",
    "from sklearn.pipeline import Pipeline\n",
    "from sklearn.multioutput import MultiOutputClassifier"
   ]
  },
  {
   "cell_type": "code",
   "execution_count": 18,
   "id": "45326f22",
   "metadata": {},
   "outputs": [],
   "source": [
    "from sqlalchemy import create_engine"
   ]
  },
  {
   "cell_type": "code",
   "execution_count": 11,
   "id": "75100bc2",
   "metadata": {},
   "outputs": [],
   "source": [
    "import json \n",
    "import folium"
   ]
  },
  {
   "cell_type": "code",
   "execution_count": 12,
   "id": "8cca8a80",
   "metadata": {},
   "outputs": [],
   "source": [
    "df_apart = pd.read_csv('dados_apartamentos.csv', encoding = \"utf-8\", sep=';', header=0)\n",
    "df_houses = pd.read_csv('houses_dados.csv', encoding = \"utf-8\", sep=';', header=0) "
   ]
  },
  {
   "cell_type": "code",
   "execution_count": 13,
   "id": "99cf3484",
   "metadata": {},
   "outputs": [],
   "source": [
    "df_apart.rename({'#quartos': 'quartos'}, axis=1, inplace=True)\n",
    "df_houses.rename({'#quartos': 'quartos'}, axis=1, inplace = True)"
   ]
  },
  {
   "cell_type": "code",
   "execution_count": 6,
   "id": "35214d87",
   "metadata": {},
   "outputs": [
    {
     "data": {
      "text/html": [
       "<div>\n",
       "<style scoped>\n",
       "    .dataframe tbody tr th:only-of-type {\n",
       "        vertical-align: middle;\n",
       "    }\n",
       "\n",
       "    .dataframe tbody tr th {\n",
       "        vertical-align: top;\n",
       "    }\n",
       "\n",
       "    .dataframe thead th {\n",
       "        text-align: right;\n",
       "    }\n",
       "</style>\n",
       "<table border=\"1\" class=\"dataframe\">\n",
       "  <thead>\n",
       "    <tr style=\"text-align: right;\">\n",
       "      <th></th>\n",
       "      <th>entry_date</th>\n",
       "      <th>property_type</th>\n",
       "      <th>Tipology</th>\n",
       "      <th>Condition</th>\n",
       "      <th>Location</th>\n",
       "      <th>Price</th>\n",
       "      <th>areas_sqm</th>\n",
       "      <th>euros/sqm</th>\n",
       "      <th>Latitude</th>\n",
       "      <th>Longitude</th>\n",
       "      <th>Location_2</th>\n",
       "      <th>CodPostal</th>\n",
       "      <th>quartos</th>\n",
       "      <th>Cod_Condition</th>\n",
       "    </tr>\n",
       "  </thead>\n",
       "  <tbody>\n",
       "    <tr>\n",
       "      <th>0</th>\n",
       "      <td>20/07/2020</td>\n",
       "      <td>Apartments</td>\n",
       "      <td>T2</td>\n",
       "      <td>Used</td>\n",
       "      <td>Aveiro, Aradas</td>\n",
       "      <td>145000</td>\n",
       "      <td>96</td>\n",
       "      <td>1518</td>\n",
       "      <td>40.6175</td>\n",
       "      <td>-8.647778</td>\n",
       "      <td>Aradas</td>\n",
       "      <td>3810</td>\n",
       "      <td>2</td>\n",
       "      <td>4</td>\n",
       "    </tr>\n",
       "    <tr>\n",
       "      <th>1</th>\n",
       "      <td>20/07/2020</td>\n",
       "      <td>Apartments</td>\n",
       "      <td>T2</td>\n",
       "      <td>Used</td>\n",
       "      <td>Aveiro, Aradas</td>\n",
       "      <td>155000</td>\n",
       "      <td>119</td>\n",
       "      <td>1303</td>\n",
       "      <td>40.6175</td>\n",
       "      <td>-8.647778</td>\n",
       "      <td>Aradas</td>\n",
       "      <td>3810</td>\n",
       "      <td>2</td>\n",
       "      <td>4</td>\n",
       "    </tr>\n",
       "    <tr>\n",
       "      <th>2</th>\n",
       "      <td>20/07/2020</td>\n",
       "      <td>Apartments</td>\n",
       "      <td>T2</td>\n",
       "      <td>Used</td>\n",
       "      <td>Aveiro, Aradas</td>\n",
       "      <td>118000</td>\n",
       "      <td>72</td>\n",
       "      <td>1639</td>\n",
       "      <td>40.6175</td>\n",
       "      <td>-8.647778</td>\n",
       "      <td>Aradas</td>\n",
       "      <td>3810</td>\n",
       "      <td>2</td>\n",
       "      <td>4</td>\n",
       "    </tr>\n",
       "    <tr>\n",
       "      <th>3</th>\n",
       "      <td>20/07/2020</td>\n",
       "      <td>Apartments</td>\n",
       "      <td>T2</td>\n",
       "      <td>Used</td>\n",
       "      <td>Aveiro, Aradas</td>\n",
       "      <td>185000</td>\n",
       "      <td>90</td>\n",
       "      <td>2056</td>\n",
       "      <td>40.6175</td>\n",
       "      <td>-8.647778</td>\n",
       "      <td>Aradas</td>\n",
       "      <td>3810</td>\n",
       "      <td>2</td>\n",
       "      <td>4</td>\n",
       "    </tr>\n",
       "    <tr>\n",
       "      <th>4</th>\n",
       "      <td>20/07/2020</td>\n",
       "      <td>Apartments</td>\n",
       "      <td>T2</td>\n",
       "      <td>New</td>\n",
       "      <td>Aveiro, Aradas</td>\n",
       "      <td>295000</td>\n",
       "      <td>126</td>\n",
       "      <td>2351</td>\n",
       "      <td>40.6175</td>\n",
       "      <td>-8.647778</td>\n",
       "      <td>Aradas</td>\n",
       "      <td>3810</td>\n",
       "      <td>2</td>\n",
       "      <td>6</td>\n",
       "    </tr>\n",
       "  </tbody>\n",
       "</table>\n",
       "</div>"
      ],
      "text/plain": [
       "   entry_date property_type Tipology Condition        Location   Price  \\\n",
       "0  20/07/2020    Apartments       T2      Used  Aveiro, Aradas  145000   \n",
       "1  20/07/2020    Apartments       T2      Used  Aveiro, Aradas  155000   \n",
       "2  20/07/2020    Apartments       T2      Used  Aveiro, Aradas  118000   \n",
       "3  20/07/2020    Apartments       T2      Used  Aveiro, Aradas  185000   \n",
       "4  20/07/2020    Apartments       T2       New  Aveiro, Aradas  295000   \n",
       "\n",
       "   areas_sqm  euros/sqm  Latitude  Longitude Location_2  CodPostal  quartos  \\\n",
       "0         96       1518   40.6175  -8.647778     Aradas       3810        2   \n",
       "1        119       1303   40.6175  -8.647778     Aradas       3810        2   \n",
       "2         72       1639   40.6175  -8.647778     Aradas       3810        2   \n",
       "3         90       2056   40.6175  -8.647778     Aradas       3810        2   \n",
       "4        126       2351   40.6175  -8.647778     Aradas       3810        2   \n",
       "\n",
       "   Cod_Condition  \n",
       "0              4  \n",
       "1              4  \n",
       "2              4  \n",
       "3              4  \n",
       "4              6  "
      ]
     },
     "execution_count": 6,
     "metadata": {},
     "output_type": "execute_result"
    }
   ],
   "source": [
    "df_apart.head()"
   ]
  },
  {
   "cell_type": "code",
   "execution_count": 12,
   "id": "e18fce86",
   "metadata": {},
   "outputs": [
    {
     "data": {
      "text/html": [
       "<div>\n",
       "<style scoped>\n",
       "    .dataframe tbody tr th:only-of-type {\n",
       "        vertical-align: middle;\n",
       "    }\n",
       "\n",
       "    .dataframe tbody tr th {\n",
       "        vertical-align: top;\n",
       "    }\n",
       "\n",
       "    .dataframe thead th {\n",
       "        text-align: right;\n",
       "    }\n",
       "</style>\n",
       "<table border=\"1\" class=\"dataframe\">\n",
       "  <thead>\n",
       "    <tr style=\"text-align: right;\">\n",
       "      <th></th>\n",
       "      <th>entry_date</th>\n",
       "      <th>property_type</th>\n",
       "      <th>Tipology</th>\n",
       "      <th>Condition</th>\n",
       "      <th>Location</th>\n",
       "      <th>Price</th>\n",
       "      <th>areas_sqm</th>\n",
       "      <th>euros/sqm</th>\n",
       "      <th>Latitude</th>\n",
       "      <th>Longitude</th>\n",
       "      <th>Location_2</th>\n",
       "      <th>CodPostal</th>\n",
       "      <th>#quartos</th>\n",
       "      <th>Cod_Condition</th>\n",
       "    </tr>\n",
       "  </thead>\n",
       "  <tbody>\n",
       "    <tr>\n",
       "      <th>0</th>\n",
       "      <td>21/02/2021</td>\n",
       "      <td>Houses</td>\n",
       "      <td>T4</td>\n",
       "      <td>Used</td>\n",
       "      <td>Ílhavo, Gafanha da Encarnação</td>\n",
       "      <td>570000</td>\n",
       "      <td>175</td>\n",
       "      <td>3257</td>\n",
       "      <td>40.621371</td>\n",
       "      <td>-8.733032</td>\n",
       "      <td>Gafanha da Encarnação</td>\n",
       "      <td>3830</td>\n",
       "      <td>4</td>\n",
       "      <td>4</td>\n",
       "    </tr>\n",
       "    <tr>\n",
       "      <th>1</th>\n",
       "      <td>21/02/2021</td>\n",
       "      <td>Houses</td>\n",
       "      <td>T3</td>\n",
       "      <td>Used</td>\n",
       "      <td>Ílhavo, Gafanha da Encarnação</td>\n",
       "      <td>320000</td>\n",
       "      <td>258</td>\n",
       "      <td>1240</td>\n",
       "      <td>40.621371</td>\n",
       "      <td>-8.733032</td>\n",
       "      <td>Gafanha da Encarnação</td>\n",
       "      <td>3830</td>\n",
       "      <td>3</td>\n",
       "      <td>4</td>\n",
       "    </tr>\n",
       "    <tr>\n",
       "      <th>2</th>\n",
       "      <td>21/02/2021</td>\n",
       "      <td>Houses</td>\n",
       "      <td>T3</td>\n",
       "      <td>Used</td>\n",
       "      <td>Ílhavo, Gafanha da Encarnação</td>\n",
       "      <td>315000</td>\n",
       "      <td>140</td>\n",
       "      <td>2250</td>\n",
       "      <td>40.621371</td>\n",
       "      <td>-8.733032</td>\n",
       "      <td>Gafanha da Encarnação</td>\n",
       "      <td>3830</td>\n",
       "      <td>3</td>\n",
       "      <td>4</td>\n",
       "    </tr>\n",
       "    <tr>\n",
       "      <th>3</th>\n",
       "      <td>21/02/2021</td>\n",
       "      <td>Houses</td>\n",
       "      <td>T4</td>\n",
       "      <td>Used</td>\n",
       "      <td>Ílhavo, Gafanha da Encarnação</td>\n",
       "      <td>237000</td>\n",
       "      <td>194</td>\n",
       "      <td>1222</td>\n",
       "      <td>40.621371</td>\n",
       "      <td>-8.733032</td>\n",
       "      <td>Gafanha da Encarnação</td>\n",
       "      <td>3830</td>\n",
       "      <td>4</td>\n",
       "      <td>4</td>\n",
       "    </tr>\n",
       "    <tr>\n",
       "      <th>4</th>\n",
       "      <td>21/02/2021</td>\n",
       "      <td>Houses</td>\n",
       "      <td>T4</td>\n",
       "      <td>Used</td>\n",
       "      <td>Ílhavo, Gafanha da Encarnação</td>\n",
       "      <td>580000</td>\n",
       "      <td>193</td>\n",
       "      <td>3005</td>\n",
       "      <td>40.621371</td>\n",
       "      <td>-8.733032</td>\n",
       "      <td>Gafanha da Encarnação</td>\n",
       "      <td>3830</td>\n",
       "      <td>4</td>\n",
       "      <td>4</td>\n",
       "    </tr>\n",
       "  </tbody>\n",
       "</table>\n",
       "</div>"
      ],
      "text/plain": [
       "   entry_date property_type Tipology Condition                       Location  \\\n",
       "0  21/02/2021        Houses       T4      Used  Ílhavo, Gafanha da Encarnação   \n",
       "1  21/02/2021        Houses       T3      Used  Ílhavo, Gafanha da Encarnação   \n",
       "2  21/02/2021        Houses       T3      Used  Ílhavo, Gafanha da Encarnação   \n",
       "3  21/02/2021        Houses       T4      Used  Ílhavo, Gafanha da Encarnação   \n",
       "4  21/02/2021        Houses       T4      Used  Ílhavo, Gafanha da Encarnação   \n",
       "\n",
       "    Price  areas_sqm  euros/sqm   Latitude  Longitude              Location_2  \\\n",
       "0  570000        175       3257  40.621371  -8.733032   Gafanha da Encarnação   \n",
       "1  320000        258       1240  40.621371  -8.733032   Gafanha da Encarnação   \n",
       "2  315000        140       2250  40.621371  -8.733032   Gafanha da Encarnação   \n",
       "3  237000        194       1222  40.621371  -8.733032   Gafanha da Encarnação   \n",
       "4  580000        193       3005  40.621371  -8.733032   Gafanha da Encarnação   \n",
       "\n",
       "   CodPostal  #quartos  Cod_Condition  \n",
       "0       3830         4              4  \n",
       "1       3830         3              4  \n",
       "2       3830         3              4  \n",
       "3       3830         4              4  \n",
       "4       3830         4              4  "
      ]
     },
     "execution_count": 12,
     "metadata": {},
     "output_type": "execute_result"
    }
   ],
   "source": [
    "df_houses.head()"
   ]
  },
  {
   "cell_type": "markdown",
   "id": "ba8815f3",
   "metadata": {},
   "source": [
    "### explore"
   ]
  },
  {
   "cell_type": "code",
   "execution_count": 7,
   "id": "e0a7b42a",
   "metadata": {},
   "outputs": [
    {
     "data": {
      "text/plain": [
       "Index(['entry_date', 'property_type', 'Tipology', 'Condition', 'Location',\n",
       "       'Price', 'areas_sqm', 'euros/sqm', 'Latitude', 'Longitude',\n",
       "       'Location_2', 'CodPostal', 'quartos', 'Cod_Condition'],\n",
       "      dtype='object')"
      ]
     },
     "execution_count": 7,
     "metadata": {},
     "output_type": "execute_result"
    }
   ],
   "source": [
    "df_apart.columns"
   ]
  },
  {
   "cell_type": "code",
   "execution_count": 8,
   "id": "981f5d27",
   "metadata": {},
   "outputs": [
    {
     "data": {
      "text/plain": [
       "3800    2298\n",
       "3830     834\n",
       "3810     511\n",
       "3880      11\n",
       "Name: CodPostal, dtype: int64"
      ]
     },
     "execution_count": 8,
     "metadata": {},
     "output_type": "execute_result"
    }
   ],
   "source": [
    "df_apart.CodPostal.value_counts()"
   ]
  },
  {
   "cell_type": "code",
   "execution_count": 14,
   "id": "cfcaf6ec",
   "metadata": {},
   "outputs": [],
   "source": [
    "frames = [df_apart, df_houses]"
   ]
  },
  {
   "cell_type": "code",
   "execution_count": 15,
   "id": "20dc59ec",
   "metadata": {},
   "outputs": [],
   "source": [
    "#unir dataframes\n",
    "df = pd.concat(frames)"
   ]
  },
  {
   "cell_type": "code",
   "execution_count": 17,
   "id": "62c962e1",
   "metadata": {},
   "outputs": [
    {
     "data": {
      "text/html": [
       "<div>\n",
       "<style scoped>\n",
       "    .dataframe tbody tr th:only-of-type {\n",
       "        vertical-align: middle;\n",
       "    }\n",
       "\n",
       "    .dataframe tbody tr th {\n",
       "        vertical-align: top;\n",
       "    }\n",
       "\n",
       "    .dataframe thead th {\n",
       "        text-align: right;\n",
       "    }\n",
       "</style>\n",
       "<table border=\"1\" class=\"dataframe\">\n",
       "  <thead>\n",
       "    <tr style=\"text-align: right;\">\n",
       "      <th></th>\n",
       "      <th>entry_date</th>\n",
       "      <th>property_type</th>\n",
       "      <th>Tipology</th>\n",
       "      <th>Condition</th>\n",
       "      <th>Location</th>\n",
       "      <th>Price</th>\n",
       "      <th>areas_sqm</th>\n",
       "      <th>euros/sqm</th>\n",
       "      <th>Latitude</th>\n",
       "      <th>Longitude</th>\n",
       "      <th>Location_2</th>\n",
       "      <th>CodPostal</th>\n",
       "      <th>quartos</th>\n",
       "      <th>Cod_Condition</th>\n",
       "    </tr>\n",
       "  </thead>\n",
       "  <tbody>\n",
       "    <tr>\n",
       "      <th>521</th>\n",
       "      <td>01/12/2020</td>\n",
       "      <td>Houses</td>\n",
       "      <td>T3</td>\n",
       "      <td>Used</td>\n",
       "      <td>Aveiro, Póvoa do Paço</td>\n",
       "      <td>50000</td>\n",
       "      <td>151</td>\n",
       "      <td>331</td>\n",
       "      <td>41.0</td>\n",
       "      <td>9.0</td>\n",
       "      <td>Póvoa do Paço</td>\n",
       "      <td>3800</td>\n",
       "      <td>3</td>\n",
       "      <td>4</td>\n",
       "    </tr>\n",
       "    <tr>\n",
       "      <th>522</th>\n",
       "      <td>14/11/2020</td>\n",
       "      <td>Houses</td>\n",
       "      <td>T5</td>\n",
       "      <td>Used</td>\n",
       "      <td>Aveiro, Mataduços</td>\n",
       "      <td>230000</td>\n",
       "      <td>127</td>\n",
       "      <td>1811</td>\n",
       "      <td>41.0</td>\n",
       "      <td>9.0</td>\n",
       "      <td>Mataduços</td>\n",
       "      <td>3800</td>\n",
       "      <td>5</td>\n",
       "      <td>4</td>\n",
       "    </tr>\n",
       "    <tr>\n",
       "      <th>523</th>\n",
       "      <td>01/12/2020</td>\n",
       "      <td>Houses</td>\n",
       "      <td>T4</td>\n",
       "      <td>Used</td>\n",
       "      <td>Aveiro, Póvoa do Paço</td>\n",
       "      <td>100000</td>\n",
       "      <td>270</td>\n",
       "      <td>370</td>\n",
       "      <td>41.0</td>\n",
       "      <td>9.0</td>\n",
       "      <td>Póvoa do Paço</td>\n",
       "      <td>3800</td>\n",
       "      <td>4</td>\n",
       "      <td>4</td>\n",
       "    </tr>\n",
       "    <tr>\n",
       "      <th>524</th>\n",
       "      <td>23/12/2020</td>\n",
       "      <td>Houses</td>\n",
       "      <td>T4</td>\n",
       "      <td>Used</td>\n",
       "      <td>Ílhavo, São Salvador</td>\n",
       "      <td>300000</td>\n",
       "      <td>126</td>\n",
       "      <td>2381</td>\n",
       "      <td>41.0</td>\n",
       "      <td>9.0</td>\n",
       "      <td>São Salvador</td>\n",
       "      <td>3830</td>\n",
       "      <td>4</td>\n",
       "      <td>4</td>\n",
       "    </tr>\n",
       "    <tr>\n",
       "      <th>525</th>\n",
       "      <td>24/11/2020</td>\n",
       "      <td>Houses</td>\n",
       "      <td>T3</td>\n",
       "      <td>Used</td>\n",
       "      <td>Aveiro, Azenha de Baixo</td>\n",
       "      <td>295000</td>\n",
       "      <td>180</td>\n",
       "      <td>1639</td>\n",
       "      <td>41.0</td>\n",
       "      <td>9.0</td>\n",
       "      <td>Azenha de Baixo</td>\n",
       "      <td>3810</td>\n",
       "      <td>3</td>\n",
       "      <td>4</td>\n",
       "    </tr>\n",
       "  </tbody>\n",
       "</table>\n",
       "</div>"
      ],
      "text/plain": [
       "     entry_date property_type Tipology Condition                 Location  \\\n",
       "521  01/12/2020        Houses       T3      Used    Aveiro, Póvoa do Paço   \n",
       "522  14/11/2020        Houses       T5      Used        Aveiro, Mataduços   \n",
       "523  01/12/2020        Houses       T4      Used    Aveiro, Póvoa do Paço   \n",
       "524  23/12/2020        Houses       T4      Used     Ílhavo, São Salvador   \n",
       "525  24/11/2020        Houses       T3      Used  Aveiro, Azenha de Baixo   \n",
       "\n",
       "      Price  areas_sqm  euros/sqm  Latitude  Longitude        Location_2  \\\n",
       "521   50000        151        331      41.0        9.0     Póvoa do Paço   \n",
       "522  230000        127       1811      41.0        9.0         Mataduços   \n",
       "523  100000        270        370      41.0        9.0     Póvoa do Paço   \n",
       "524  300000        126       2381      41.0        9.0      São Salvador   \n",
       "525  295000        180       1639      41.0        9.0   Azenha de Baixo   \n",
       "\n",
       "     CodPostal  quartos  Cod_Condition  \n",
       "521       3800        3              4  \n",
       "522       3800        5              4  \n",
       "523       3800        4              4  \n",
       "524       3830        4              4  \n",
       "525       3810        3              4  "
      ]
     },
     "execution_count": 17,
     "metadata": {},
     "output_type": "execute_result"
    }
   ],
   "source": [
    "df.tail()"
   ]
  },
  {
   "cell_type": "code",
   "execution_count": 19,
   "id": "dba1b34a",
   "metadata": {},
   "outputs": [],
   "source": [
    "engine = create_engine('sqlite:///casas.db')\n",
    "df.to_sql('casas', engine, index=False)"
   ]
  },
  {
   "cell_type": "code",
   "execution_count": null,
   "id": "a6a12434",
   "metadata": {},
   "outputs": [],
   "source": []
  },
  {
   "cell_type": "code",
   "execution_count": null,
   "id": "348819da",
   "metadata": {},
   "outputs": [],
   "source": []
  },
  {
   "cell_type": "code",
   "execution_count": null,
   "id": "c02d2951",
   "metadata": {},
   "outputs": [],
   "source": []
  },
  {
   "cell_type": "markdown",
   "id": "b14b2928",
   "metadata": {},
   "source": [
    "#### apartamentos"
   ]
  },
  {
   "cell_type": "code",
   "execution_count": 28,
   "id": "7e7c0693",
   "metadata": {},
   "outputs": [],
   "source": [
    "quartos_apart = df_apart.quartos.value_counts()"
   ]
  },
  {
   "cell_type": "code",
   "execution_count": 34,
   "id": "567ce385",
   "metadata": {},
   "outputs": [
    {
     "data": {
      "text/plain": [
       "<AxesSubplot:>"
      ]
     },
     "execution_count": 34,
     "metadata": {},
     "output_type": "execute_result"
    },
    {
     "data": {
      "image/png": "[encoded data removed]",
      "text/plain": [
       "<Figure size 432x288 with 1 Axes>"
      ]
     },
     "metadata": {
      "needs_background": "light"
     },
     "output_type": "display_data"
    }
   ],
   "source": [
    "(quartos_apart/df_apart.shape[0]).plot(kind='bar')#numero de quartos em %"
   ]
  },
  {
   "cell_type": "code",
   "execution_count": 41,
   "id": "2db589ee",
   "metadata": {},
   "outputs": [
    {
     "data": {
      "text/plain": [
       "<AxesSubplot:xlabel='quartos'>"
      ]
     },
     "execution_count": 41,
     "metadata": {},
     "output_type": "execute_result"
    },
    {
     "data": {
      "image/png": "[encoded data removed]",
      "text/plain": [
       "<Figure size 432x288 with 1 Axes>"
      ]
     },
     "metadata": {
      "needs_background": "light"
     },
     "output_type": "display_data"
    }
   ],
   "source": [
    "price_by_room_apart = df_apart.groupby(['quartos']).mean()['Price'].sort_values()\n",
    "price_by_room_apart.plot(kind='bar')"
   ]
  },
  {
   "cell_type": "code",
   "execution_count": 43,
   "id": "6871781c",
   "metadata": {},
   "outputs": [
    {
     "data": {
      "text/plain": [
       "<AxesSubplot:xlabel='Condition'>"
      ]
     },
     "execution_count": 43,
     "metadata": {},
     "output_type": "execute_result"
    },
    {
     "data": {
      "image/png": "[encoded data removed]",
      "text/plain": [
       "<Figure size 432x288 with 1 Axes>"
      ]
     },
     "metadata": {
      "needs_background": "light"
     },
     "output_type": "display_data"
    }
   ],
   "source": [
    "price_by_condition_apart = df_apart.groupby(['Condition']).mean()['Price'].sort_values()\n",
    "price_by_condition_apart.plot(kind='bar')"
   ]
  },
  {
   "cell_type": "code",
   "execution_count": 44,
   "id": "f086dd24",
   "metadata": {},
   "outputs": [
    {
     "data": {
      "text/plain": [
       "<AxesSubplot:xlabel='CodPostal'>"
      ]
     },
     "execution_count": 44,
     "metadata": {},
     "output_type": "execute_result"
    },
    {
     "data": {
      "image/png": "[encoded data removed]",
      "text/plain": [
       "<Figure size 432x288 with 1 Axes>"
      ]
     },
     "metadata": {
      "needs_background": "light"
     },
     "output_type": "display_data"
    }
   ],
   "source": [
    "price_by_cod_apart = df_apart.groupby(['CodPostal']).mean()['Price'].sort_values()\n",
    "price_by_cod_apart.plot(kind='bar')"
   ]
  },
  {
   "cell_type": "code",
   "execution_count": 53,
   "id": "234612fd",
   "metadata": {},
   "outputs": [
    {
     "data": {
      "image/png": "[encoded data removed]",
      "text/plain": [
       "<Figure size 360x360 with 6 Axes>"
      ]
     },
     "metadata": {},
     "output_type": "display_data"
    }
   ],
   "source": [
    "sns.set(style='ticks', color_codes=True)\n",
    "price_q = df_apart[['Price', 'quartos']]\n",
    "g=sns.pairplot(price_q)\n",
    "plt.show()"
   ]
  },
  {
   "cell_type": "code",
   "execution_count": 57,
   "id": "e360a875",
   "metadata": {},
   "outputs": [
    {
     "data": {
      "text/plain": [
       "<AxesSubplot:>"
      ]
     },
     "execution_count": 57,
     "metadata": {},
     "output_type": "execute_result"
    },
    {
     "data": {
      "image/png": "[encoded data removed]",
      "text/plain": [
       "<Figure size 432x288 with 1 Axes>"
      ]
     },
     "metadata": {},
     "output_type": "display_data"
    }
   ],
   "source": [
    "time_apart = df_apart['entry_date'].value_counts()\n",
    "time_apart.plot.line()"
   ]
  },
  {
   "cell_type": "code",
   "execution_count": 69,
   "id": "2b117acd",
   "metadata": {},
   "outputs": [
    {
     "data": {
      "text/plain": [
       "<AxesSubplot:xlabel='CodPostal', ylabel='count'>"
      ]
     },
     "execution_count": 69,
     "metadata": {},
     "output_type": "execute_result"
    },
    {
     "data": {
      "image/png": "[encoded data removed]",
      "text/plain": [
       "<Figure size 432x288 with 1 Axes>"
      ]
     },
     "metadata": {},
     "output_type": "display_data"
    }
   ],
   "source": [
    "#distribuicao codigo postal por condicao\n",
    "sns.countplot(x='CodPostal', hue = df_apart['Condition'], data= df_apart)\n"
   ]
  },
  {
   "cell_type": "code",
   "execution_count": 68,
   "id": "3760d1d1",
   "metadata": {},
   "outputs": [
    {
     "data": {
      "text/plain": [
       "<AxesSubplot:xlabel='Tipology', ylabel='count'>"
      ]
     },
     "execution_count": 68,
     "metadata": {},
     "output_type": "execute_result"
    },
    {
     "data": {
      "image/png": "[encoded data removed]",
      "text/plain": [
       "<Figure size 432x288 with 1 Axes>"
      ]
     },
     "metadata": {},
     "output_type": "display_data"
    }
   ],
   "source": [
    "#distribuicao codigo postal por condicao\n",
    "sns.countplot(x='Tipology', hue = df_apart['Condition'], data= df_apart)\n"
   ]
  },
  {
   "cell_type": "code",
   "execution_count": 71,
   "id": "1d494c4d",
   "metadata": {},
   "outputs": [
    {
     "data": {
      "text/html": [
       "<div>\n",
       "<style scoped>\n",
       "    .dataframe tbody tr th:only-of-type {\n",
       "        vertical-align: middle;\n",
       "    }\n",
       "\n",
       "    .dataframe tbody tr th {\n",
       "        vertical-align: top;\n",
       "    }\n",
       "\n",
       "    .dataframe thead th {\n",
       "        text-align: right;\n",
       "    }\n",
       "</style>\n",
       "<table border=\"1\" class=\"dataframe\">\n",
       "  <thead>\n",
       "    <tr style=\"text-align: right;\">\n",
       "      <th></th>\n",
       "      <th>Price</th>\n",
       "      <th>areas_sqm</th>\n",
       "      <th>euros/sqm</th>\n",
       "      <th>Latitude</th>\n",
       "      <th>Longitude</th>\n",
       "      <th>CodPostal</th>\n",
       "      <th>quartos</th>\n",
       "      <th>Cod_Condition</th>\n",
       "    </tr>\n",
       "  </thead>\n",
       "  <tbody>\n",
       "    <tr>\n",
       "      <th>Price</th>\n",
       "      <td>1.000000</td>\n",
       "      <td>0.576126</td>\n",
       "      <td>0.473093</td>\n",
       "      <td>0.033787</td>\n",
       "      <td>-0.318446</td>\n",
       "      <td>0.158425</td>\n",
       "      <td>0.472994</td>\n",
       "      <td>-0.016733</td>\n",
       "    </tr>\n",
       "    <tr>\n",
       "      <th>areas_sqm</th>\n",
       "      <td>0.576126</td>\n",
       "      <td>1.000000</td>\n",
       "      <td>-0.355690</td>\n",
       "      <td>-0.009341</td>\n",
       "      <td>-0.033726</td>\n",
       "      <td>0.125910</td>\n",
       "      <td>0.783656</td>\n",
       "      <td>0.025428</td>\n",
       "    </tr>\n",
       "    <tr>\n",
       "      <th>euros/sqm</th>\n",
       "      <td>0.473093</td>\n",
       "      <td>-0.355690</td>\n",
       "      <td>1.000000</td>\n",
       "      <td>0.055396</td>\n",
       "      <td>-0.333286</td>\n",
       "      <td>0.009930</td>\n",
       "      <td>-0.318311</td>\n",
       "      <td>-0.067883</td>\n",
       "    </tr>\n",
       "    <tr>\n",
       "      <th>Latitude</th>\n",
       "      <td>0.033787</td>\n",
       "      <td>-0.009341</td>\n",
       "      <td>0.055396</td>\n",
       "      <td>1.000000</td>\n",
       "      <td>-0.046788</td>\n",
       "      <td>-0.173118</td>\n",
       "      <td>0.003365</td>\n",
       "      <td>-0.004941</td>\n",
       "    </tr>\n",
       "    <tr>\n",
       "      <th>Longitude</th>\n",
       "      <td>-0.318446</td>\n",
       "      <td>-0.033726</td>\n",
       "      <td>-0.333286</td>\n",
       "      <td>-0.046788</td>\n",
       "      <td>1.000000</td>\n",
       "      <td>-0.650619</td>\n",
       "      <td>0.039764</td>\n",
       "      <td>0.047110</td>\n",
       "    </tr>\n",
       "    <tr>\n",
       "      <th>CodPostal</th>\n",
       "      <td>0.158425</td>\n",
       "      <td>0.125910</td>\n",
       "      <td>0.009930</td>\n",
       "      <td>-0.173118</td>\n",
       "      <td>-0.650619</td>\n",
       "      <td>1.000000</td>\n",
       "      <td>0.079993</td>\n",
       "      <td>-0.031546</td>\n",
       "    </tr>\n",
       "    <tr>\n",
       "      <th>quartos</th>\n",
       "      <td>0.472994</td>\n",
       "      <td>0.783656</td>\n",
       "      <td>-0.318311</td>\n",
       "      <td>0.003365</td>\n",
       "      <td>0.039764</td>\n",
       "      <td>0.079993</td>\n",
       "      <td>1.000000</td>\n",
       "      <td>0.000606</td>\n",
       "    </tr>\n",
       "    <tr>\n",
       "      <th>Cod_Condition</th>\n",
       "      <td>-0.016733</td>\n",
       "      <td>0.025428</td>\n",
       "      <td>-0.067883</td>\n",
       "      <td>-0.004941</td>\n",
       "      <td>0.047110</td>\n",
       "      <td>-0.031546</td>\n",
       "      <td>0.000606</td>\n",
       "      <td>1.000000</td>\n",
       "    </tr>\n",
       "  </tbody>\n",
       "</table>\n",
       "</div>"
      ],
      "text/plain": [
       "                  Price  areas_sqm  euros/sqm  Latitude  Longitude  CodPostal  \\\n",
       "Price          1.000000   0.576126   0.473093  0.033787  -0.318446   0.158425   \n",
       "areas_sqm      0.576126   1.000000  -0.355690 -0.009341  -0.033726   0.125910   \n",
       "euros/sqm      0.473093  -0.355690   1.000000  0.055396  -0.333286   0.009930   \n",
       "Latitude       0.033787  -0.009341   0.055396  1.000000  -0.046788  -0.173118   \n",
       "Longitude     -0.318446  -0.033726  -0.333286 -0.046788   1.000000  -0.650619   \n",
       "CodPostal      0.158425   0.125910   0.009930 -0.173118  -0.650619   1.000000   \n",
       "quartos        0.472994   0.783656  -0.318311  0.003365   0.039764   0.079993   \n",
       "Cod_Condition -0.016733   0.025428  -0.067883 -0.004941   0.047110  -0.031546   \n",
       "\n",
       "                quartos  Cod_Condition  \n",
       "Price          0.472994      -0.016733  \n",
       "areas_sqm      0.783656       0.025428  \n",
       "euros/sqm     -0.318311      -0.067883  \n",
       "Latitude       0.003365      -0.004941  \n",
       "Longitude      0.039764       0.047110  \n",
       "CodPostal      0.079993      -0.031546  \n",
       "quartos        1.000000       0.000606  \n",
       "Cod_Condition  0.000606       1.000000  "
      ]
     },
     "execution_count": 71,
     "metadata": {},
     "output_type": "execute_result"
    }
   ],
   "source": [
    "df_apart.corr()"
   ]
  },
  {
   "cell_type": "markdown",
   "id": "81155939",
   "metadata": {},
   "source": [
    "correlação > 0.5 : preço e área"
   ]
  },
  {
   "cell_type": "markdown",
   "id": "33ccb5a7",
   "metadata": {},
   "source": [
    "#### casas"
   ]
  },
  {
   "cell_type": "code",
   "execution_count": 20,
   "id": "ecd4a45b",
   "metadata": {},
   "outputs": [
    {
     "data": {
      "text/plain": [
       "3830    232\n",
       "3800    176\n",
       "3810     95\n",
       "3880     23\n",
       "Name: CodPostal, dtype: int64"
      ]
     },
     "execution_count": 20,
     "metadata": {},
     "output_type": "execute_result"
    }
   ],
   "source": [
    "df_houses.CodPostal.value_counts()"
   ]
  },
  {
   "cell_type": "code",
   "execution_count": 36,
   "id": "483a6dbf",
   "metadata": {},
   "outputs": [
    {
     "data": {
      "text/plain": [
       "<AxesSubplot:>"
      ]
     },
     "execution_count": 36,
     "metadata": {},
     "output_type": "execute_result"
    },
    {
     "data": {
      "image/png": "[encoded data removed]",
      "text/plain": [
       "<Figure size 432x288 with 1 Axes>"
      ]
     },
     "metadata": {
      "needs_background": "light"
     },
     "output_type": "display_data"
    }
   ],
   "source": [
    "quartos_casas = df_houses.quartos.value_counts()\n",
    "(quartos_casas/df_houses.shape[0]).plot(kind='bar')#numero de quartos em %"
   ]
  },
  {
   "cell_type": "code",
   "execution_count": 45,
   "id": "d1c8dfd6",
   "metadata": {},
   "outputs": [
    {
     "data": {
      "text/plain": [
       "<AxesSubplot:xlabel='quartos'>"
      ]
     },
     "execution_count": 45,
     "metadata": {},
     "output_type": "execute_result"
    },
    {
     "data": {
      "image/png": "[encoded data removed]",
      "text/plain": [
       "<Figure size 432x288 with 1 Axes>"
      ]
     },
     "metadata": {
      "needs_background": "light"
     },
     "output_type": "display_data"
    }
   ],
   "source": [
    "price_by_room_houses = df_houses.groupby(['quartos']).mean()['Price'].sort_values()\n",
    "price_by_room_houses.plot(kind='bar')"
   ]
  },
  {
   "cell_type": "code",
   "execution_count": 46,
   "id": "1ceebd6b",
   "metadata": {},
   "outputs": [
    {
     "data": {
      "text/plain": [
       "<AxesSubplot:xlabel='Condition'>"
      ]
     },
     "execution_count": 46,
     "metadata": {},
     "output_type": "execute_result"
    },
    {
     "data": {
      "image/png": "[encoded data removed]",
      "text/plain": [
       "<Figure size 432x288 with 1 Axes>"
      ]
     },
     "metadata": {
      "needs_background": "light"
     },
     "output_type": "display_data"
    }
   ],
   "source": [
    "price_by_condition_houses = df_houses.groupby(['Condition']).mean()['Price'].sort_values()\n",
    "price_by_condition_houses.plot(kind='bar')"
   ]
  },
  {
   "cell_type": "code",
   "execution_count": 54,
   "id": "1477f14c",
   "metadata": {},
   "outputs": [
    {
     "data": {
      "image/png": "[encoded data removed]",
      "text/plain": [
       "<Figure size 360x360 with 6 Axes>"
      ]
     },
     "metadata": {},
     "output_type": "display_data"
    }
   ],
   "source": [
    "sns.set(style='ticks', color_codes=True)\n",
    "price_q_h = df_houses[['Price', 'quartos']]\n",
    "g_h=sns.pairplot(price_q_h)\n",
    "plt.show()"
   ]
  },
  {
   "cell_type": "code",
   "execution_count": 58,
   "id": "b16fa451",
   "metadata": {},
   "outputs": [
    {
     "data": {
      "text/plain": [
       "<AxesSubplot:>"
      ]
     },
     "execution_count": 58,
     "metadata": {},
     "output_type": "execute_result"
    },
    {
     "data": {
      "image/png": "[encoded data removed]",
      "text/plain": [
       "<Figure size 432x288 with 1 Axes>"
      ]
     },
     "metadata": {},
     "output_type": "display_data"
    }
   ],
   "source": [
    "time_houses = df_houses['entry_date'].value_counts()\n",
    "time_houses.plot.line()"
   ]
  },
  {
   "cell_type": "code",
   "execution_count": 70,
   "id": "458af27e",
   "metadata": {},
   "outputs": [
    {
     "data": {
      "text/html": [
       "<div>\n",
       "<style scoped>\n",
       "    .dataframe tbody tr th:only-of-type {\n",
       "        vertical-align: middle;\n",
       "    }\n",
       "\n",
       "    .dataframe tbody tr th {\n",
       "        vertical-align: top;\n",
       "    }\n",
       "\n",
       "    .dataframe thead th {\n",
       "        text-align: right;\n",
       "    }\n",
       "</style>\n",
       "<table border=\"1\" class=\"dataframe\">\n",
       "  <thead>\n",
       "    <tr style=\"text-align: right;\">\n",
       "      <th></th>\n",
       "      <th>Price</th>\n",
       "      <th>areas_sqm</th>\n",
       "      <th>euros/sqm</th>\n",
       "      <th>Latitude</th>\n",
       "      <th>Longitude</th>\n",
       "      <th>CodPostal</th>\n",
       "      <th>quartos</th>\n",
       "      <th>Cod_Condition</th>\n",
       "    </tr>\n",
       "  </thead>\n",
       "  <tbody>\n",
       "    <tr>\n",
       "      <th>Price</th>\n",
       "      <td>1.000000</td>\n",
       "      <td>0.421179</td>\n",
       "      <td>0.597996</td>\n",
       "      <td>-0.006461</td>\n",
       "      <td>-0.019743</td>\n",
       "      <td>-0.028545</td>\n",
       "      <td>0.319867</td>\n",
       "      <td>0.102600</td>\n",
       "    </tr>\n",
       "    <tr>\n",
       "      <th>areas_sqm</th>\n",
       "      <td>0.421179</td>\n",
       "      <td>1.000000</td>\n",
       "      <td>-0.342211</td>\n",
       "      <td>0.070494</td>\n",
       "      <td>0.074184</td>\n",
       "      <td>0.004959</td>\n",
       "      <td>0.511406</td>\n",
       "      <td>0.077522</td>\n",
       "    </tr>\n",
       "    <tr>\n",
       "      <th>euros/sqm</th>\n",
       "      <td>0.597996</td>\n",
       "      <td>-0.342211</td>\n",
       "      <td>1.000000</td>\n",
       "      <td>-0.070499</td>\n",
       "      <td>-0.089258</td>\n",
       "      <td>-0.003625</td>\n",
       "      <td>-0.083244</td>\n",
       "      <td>0.090983</td>\n",
       "    </tr>\n",
       "    <tr>\n",
       "      <th>Latitude</th>\n",
       "      <td>-0.006461</td>\n",
       "      <td>0.070494</td>\n",
       "      <td>-0.070499</td>\n",
       "      <td>1.000000</td>\n",
       "      <td>0.944212</td>\n",
       "      <td>-0.292669</td>\n",
       "      <td>0.151604</td>\n",
       "      <td>0.005212</td>\n",
       "    </tr>\n",
       "    <tr>\n",
       "      <th>Longitude</th>\n",
       "      <td>-0.019743</td>\n",
       "      <td>0.074184</td>\n",
       "      <td>-0.089258</td>\n",
       "      <td>0.944212</td>\n",
       "      <td>1.000000</td>\n",
       "      <td>-0.303009</td>\n",
       "      <td>0.170952</td>\n",
       "      <td>0.011355</td>\n",
       "    </tr>\n",
       "    <tr>\n",
       "      <th>CodPostal</th>\n",
       "      <td>-0.028545</td>\n",
       "      <td>0.004959</td>\n",
       "      <td>-0.003625</td>\n",
       "      <td>-0.292669</td>\n",
       "      <td>-0.303009</td>\n",
       "      <td>1.000000</td>\n",
       "      <td>-0.106384</td>\n",
       "      <td>0.148313</td>\n",
       "    </tr>\n",
       "    <tr>\n",
       "      <th>quartos</th>\n",
       "      <td>0.319867</td>\n",
       "      <td>0.511406</td>\n",
       "      <td>-0.083244</td>\n",
       "      <td>0.151604</td>\n",
       "      <td>0.170952</td>\n",
       "      <td>-0.106384</td>\n",
       "      <td>1.000000</td>\n",
       "      <td>0.077960</td>\n",
       "    </tr>\n",
       "    <tr>\n",
       "      <th>Cod_Condition</th>\n",
       "      <td>0.102600</td>\n",
       "      <td>0.077522</td>\n",
       "      <td>0.090983</td>\n",
       "      <td>0.005212</td>\n",
       "      <td>0.011355</td>\n",
       "      <td>0.148313</td>\n",
       "      <td>0.077960</td>\n",
       "      <td>1.000000</td>\n",
       "    </tr>\n",
       "  </tbody>\n",
       "</table>\n",
       "</div>"
      ],
      "text/plain": [
       "                  Price  areas_sqm  euros/sqm  Latitude  Longitude  CodPostal  \\\n",
       "Price          1.000000   0.421179   0.597996 -0.006461  -0.019743  -0.028545   \n",
       "areas_sqm      0.421179   1.000000  -0.342211  0.070494   0.074184   0.004959   \n",
       "euros/sqm      0.597996  -0.342211   1.000000 -0.070499  -0.089258  -0.003625   \n",
       "Latitude      -0.006461   0.070494  -0.070499  1.000000   0.944212  -0.292669   \n",
       "Longitude     -0.019743   0.074184  -0.089258  0.944212   1.000000  -0.303009   \n",
       "CodPostal     -0.028545   0.004959  -0.003625 -0.292669  -0.303009   1.000000   \n",
       "quartos        0.319867   0.511406  -0.083244  0.151604   0.170952  -0.106384   \n",
       "Cod_Condition  0.102600   0.077522   0.090983  0.005212   0.011355   0.148313   \n",
       "\n",
       "                quartos  Cod_Condition  \n",
       "Price          0.319867       0.102600  \n",
       "areas_sqm      0.511406       0.077522  \n",
       "euros/sqm     -0.083244       0.090983  \n",
       "Latitude       0.151604       0.005212  \n",
       "Longitude      0.170952       0.011355  \n",
       "CodPostal     -0.106384       0.148313  \n",
       "quartos        1.000000       0.077960  \n",
       "Cod_Condition  0.077960       1.000000  "
      ]
     },
     "execution_count": 70,
     "metadata": {},
     "output_type": "execute_result"
    }
   ],
   "source": [
    "df_houses.corr()"
   ]
  },
  {
   "cell_type": "markdown",
   "id": "02927379",
   "metadata": {},
   "source": [
    "### Modeling "
   ]
  },
  {
   "cell_type": "markdown",
   "id": "9713bacc",
   "metadata": {},
   "source": [
    "#### split into train and test set"
   ]
  },
  {
   "cell_type": "markdown",
   "id": "088fd36c",
   "metadata": {},
   "source": [
    "## apartamentos"
   ]
  },
  {
   "cell_type": "markdown",
   "id": "f8f94362",
   "metadata": {},
   "source": [
    "### GradientBoostingRegressor"
   ]
  },
  {
   "cell_type": "code",
   "execution_count": 94,
   "id": "82d78085",
   "metadata": {},
   "outputs": [],
   "source": [
    "#define X and y\n",
    "X = df_apart[['areas_sqm', 'quartos', 'Cod_Condition']]\n",
    "y = df_apart[['Price']]"
   ]
  },
  {
   "cell_type": "code",
   "execution_count": 88,
   "id": "2d558fa7",
   "metadata": {},
   "outputs": [
    {
     "data": {
      "text/html": [
       "<div>\n",
       "<style scoped>\n",
       "    .dataframe tbody tr th:only-of-type {\n",
       "        vertical-align: middle;\n",
       "    }\n",
       "\n",
       "    .dataframe tbody tr th {\n",
       "        vertical-align: top;\n",
       "    }\n",
       "\n",
       "    .dataframe thead th {\n",
       "        text-align: right;\n",
       "    }\n",
       "</style>\n",
       "<table border=\"1\" class=\"dataframe\">\n",
       "  <thead>\n",
       "    <tr style=\"text-align: right;\">\n",
       "      <th></th>\n",
       "      <th>areas_sqm</th>\n",
       "      <th>quartos</th>\n",
       "      <th>Cod_Condition</th>\n",
       "    </tr>\n",
       "  </thead>\n",
       "  <tbody>\n",
       "    <tr>\n",
       "      <th>0</th>\n",
       "      <td>96</td>\n",
       "      <td>2</td>\n",
       "      <td>4</td>\n",
       "    </tr>\n",
       "    <tr>\n",
       "      <th>1</th>\n",
       "      <td>119</td>\n",
       "      <td>2</td>\n",
       "      <td>4</td>\n",
       "    </tr>\n",
       "    <tr>\n",
       "      <th>2</th>\n",
       "      <td>72</td>\n",
       "      <td>2</td>\n",
       "      <td>4</td>\n",
       "    </tr>\n",
       "    <tr>\n",
       "      <th>3</th>\n",
       "      <td>90</td>\n",
       "      <td>2</td>\n",
       "      <td>4</td>\n",
       "    </tr>\n",
       "    <tr>\n",
       "      <th>4</th>\n",
       "      <td>126</td>\n",
       "      <td>2</td>\n",
       "      <td>6</td>\n",
       "    </tr>\n",
       "  </tbody>\n",
       "</table>\n",
       "</div>"
      ],
      "text/plain": [
       "   areas_sqm  quartos  Cod_Condition\n",
       "0         96        2              4\n",
       "1        119        2              4\n",
       "2         72        2              4\n",
       "3         90        2              4\n",
       "4        126        2              6"
      ]
     },
     "execution_count": 88,
     "metadata": {},
     "output_type": "execute_result"
    }
   ],
   "source": [
    "X.head()"
   ]
  },
  {
   "cell_type": "code",
   "execution_count": 96,
   "id": "869d6eec",
   "metadata": {},
   "outputs": [],
   "source": [
    "X_train, X_test, y_train, y_test = train_test_split(X, y, test_size = 0.3, random_state = 42)"
   ]
  },
  {
   "cell_type": "code",
   "execution_count": 97,
   "id": "c0f14daa",
   "metadata": {},
   "outputs": [
    {
     "name": "stderr",
     "output_type": "stream",
     "text": [
      "/Users/anateresaneto/opt/miniconda3/envs/my_env/lib/python3.9/site-packages/sklearn/utils/validation.py:63: DataConversionWarning: A column-vector y was passed when a 1d array was expected. Please change the shape of y to (n_samples, ), for example using ravel().\n",
      "  return f(*args, **kwargs)\n"
     ]
    },
    {
     "data": {
      "text/plain": [
       "GradientBoostingRegressor(random_state=0)"
      ]
     },
     "execution_count": 97,
     "metadata": {},
     "output_type": "execute_result"
    }
   ],
   "source": [
    "reg = GradientBoostingRegressor(random_state=0)\n",
    "reg.fit(X_train, y_train)"
   ]
  },
  {
   "cell_type": "code",
   "execution_count": 98,
   "id": "19e6ac51",
   "metadata": {},
   "outputs": [],
   "source": [
    "predict = reg.predict(X_test)"
   ]
  },
  {
   "cell_type": "code",
   "execution_count": 99,
   "id": "461b05f3",
   "metadata": {},
   "outputs": [
    {
     "data": {
      "text/plain": [
       "0.5173453341797648"
      ]
     },
     "execution_count": 99,
     "metadata": {},
     "output_type": "execute_result"
    }
   ],
   "source": [
    "reg.score(X_test, y_test)"
   ]
  },
  {
   "cell_type": "markdown",
   "id": "e8f18a84",
   "metadata": {},
   "source": [
    "### Lasso"
   ]
  },
  {
   "cell_type": "code",
   "execution_count": 101,
   "id": "a1000dd2",
   "metadata": {},
   "outputs": [],
   "source": [
    "clf = linear_model.Lasso(alpha=0.1)"
   ]
  },
  {
   "cell_type": "code",
   "execution_count": 102,
   "id": "d72451cb",
   "metadata": {},
   "outputs": [
    {
     "data": {
      "text/plain": [
       "Lasso(alpha=0.1)"
      ]
     },
     "execution_count": 102,
     "metadata": {},
     "output_type": "execute_result"
    }
   ],
   "source": [
    "clf.fit(X_train, y_train)"
   ]
  },
  {
   "cell_type": "code",
   "execution_count": 103,
   "id": "281076af",
   "metadata": {},
   "outputs": [
    {
     "name": "stdout",
     "output_type": "stream",
     "text": [
      "[ 1406.7158021   7262.46659909 -4273.02328416]\n"
     ]
    }
   ],
   "source": [
    "print(clf.coef_)"
   ]
  },
  {
   "cell_type": "code",
   "execution_count": 104,
   "id": "354149ac",
   "metadata": {},
   "outputs": [
    {
     "name": "stdout",
     "output_type": "stream",
     "text": [
      "[79958.23679956]\n"
     ]
    }
   ],
   "source": [
    "print(clf.intercept_)"
   ]
  },
  {
   "cell_type": "code",
   "execution_count": 105,
   "id": "e153eeb5",
   "metadata": {},
   "outputs": [
    {
     "data": {
      "text/plain": [
       "0.33523148370936084"
      ]
     },
     "execution_count": 105,
     "metadata": {},
     "output_type": "execute_result"
    }
   ],
   "source": [
    "clf.score(X_test, y_test)"
   ]
  },
  {
   "cell_type": "markdown",
   "id": "24ee3809",
   "metadata": {},
   "source": [
    "### Decision Tree Regression"
   ]
  },
  {
   "cell_type": "code",
   "execution_count": 114,
   "id": "0700b9b6",
   "metadata": {},
   "outputs": [],
   "source": [
    "regr_1 = DecisionTreeRegressor(max_depth=4)\n",
    "\n",
    "regr_2 = AdaBoostRegressor(\n",
    "    DecisionTreeRegressor(max_depth=4), n_estimators=300, random_state=np.random.RandomState(1)\n",
    ")"
   ]
  },
  {
   "cell_type": "code",
   "execution_count": 115,
   "id": "7dd13775",
   "metadata": {
    "scrolled": true
   },
   "outputs": [
    {
     "name": "stderr",
     "output_type": "stream",
     "text": [
      "/Users/anateresaneto/opt/miniconda3/envs/my_env/lib/python3.9/site-packages/sklearn/utils/validation.py:63: DataConversionWarning: A column-vector y was passed when a 1d array was expected. Please change the shape of y to (n_samples, ), for example using ravel().\n",
      "  return f(*args, **kwargs)\n"
     ]
    },
    {
     "data": {
      "text/plain": [
       "AdaBoostRegressor(base_estimator=DecisionTreeRegressor(max_depth=4),\n",
       "                  n_estimators=300,\n",
       "                  random_state=RandomState(MT19937) at 0x7F92BBAD8E40)"
      ]
     },
     "execution_count": 115,
     "metadata": {},
     "output_type": "execute_result"
    }
   ],
   "source": [
    "regr_1.fit(X_train, y_train)\n",
    "regr_2.fit(X_train, y_train)"
   ]
  },
  {
   "cell_type": "code",
   "execution_count": 116,
   "id": "aed08db1",
   "metadata": {},
   "outputs": [],
   "source": [
    "y_1 = regr_1.predict(X_test)\n",
    "y_2 = regr_2.predict(X_test)"
   ]
  },
  {
   "cell_type": "markdown",
   "id": "b4a4c52a",
   "metadata": {},
   "source": [
    "#### casas"
   ]
  },
  {
   "cell_type": "markdown",
   "id": "0f61d185",
   "metadata": {},
   "source": [
    "### GradientBoostingRegressor"
   ]
  },
  {
   "cell_type": "code",
   "execution_count": 120,
   "id": "cad6ad3d",
   "metadata": {},
   "outputs": [],
   "source": [
    "#define X and y\n",
    "X = df_houses[['areas_sqm', 'quartos', 'Cod_Condition']]\n",
    "y = df_houses[['Price']]"
   ]
  },
  {
   "cell_type": "code",
   "execution_count": 121,
   "id": "9fd65a69",
   "metadata": {},
   "outputs": [],
   "source": [
    "X_train, X_test, y_train, y_test = train_test_split(X, y, test_size = 0.3, random_state = 42)"
   ]
  },
  {
   "cell_type": "code",
   "execution_count": 122,
   "id": "1717ef0c",
   "metadata": {},
   "outputs": [
    {
     "name": "stderr",
     "output_type": "stream",
     "text": [
      "/Users/anateresaneto/opt/miniconda3/envs/my_env/lib/python3.9/site-packages/sklearn/utils/validation.py:63: DataConversionWarning: A column-vector y was passed when a 1d array was expected. Please change the shape of y to (n_samples, ), for example using ravel().\n",
      "  return f(*args, **kwargs)\n"
     ]
    },
    {
     "data": {
      "text/plain": [
       "GradientBoostingRegressor(random_state=0)"
      ]
     },
     "execution_count": 122,
     "metadata": {},
     "output_type": "execute_result"
    }
   ],
   "source": [
    "reg = GradientBoostingRegressor(random_state=0)\n",
    "reg.fit(X_train, y_train)"
   ]
  },
  {
   "cell_type": "code",
   "execution_count": 123,
   "id": "4c962906",
   "metadata": {},
   "outputs": [
    {
     "data": {
      "text/plain": [
       "0.17159221451109885"
      ]
     },
     "execution_count": 123,
     "metadata": {},
     "output_type": "execute_result"
    }
   ],
   "source": [
    "predict = reg.predict(X_test)\n",
    "reg.score(X_test, y_test)"
   ]
  },
  {
   "cell_type": "markdown",
   "id": "7f5f9051",
   "metadata": {},
   "source": [
    "### Lasso"
   ]
  },
  {
   "cell_type": "code",
   "execution_count": 124,
   "id": "b470afa5",
   "metadata": {},
   "outputs": [],
   "source": [
    "clf = linear_model.Lasso(alpha=0.1)"
   ]
  },
  {
   "cell_type": "code",
   "execution_count": 125,
   "id": "4ac6f4b0",
   "metadata": {},
   "outputs": [
    {
     "data": {
      "text/plain": [
       "Lasso(alpha=0.1)"
      ]
     },
     "execution_count": 125,
     "metadata": {},
     "output_type": "execute_result"
    }
   ],
   "source": [
    "clf.fit(X_train, y_train)"
   ]
  },
  {
   "cell_type": "code",
   "execution_count": 126,
   "id": "c0c51a3d",
   "metadata": {},
   "outputs": [
    {
     "data": {
      "text/plain": [
       "0.09856164247903032"
      ]
     },
     "execution_count": 126,
     "metadata": {},
     "output_type": "execute_result"
    }
   ],
   "source": [
    "clf.score(X_test, y_test)"
   ]
  },
  {
   "cell_type": "markdown",
   "id": "9991c3fd",
   "metadata": {},
   "source": [
    "### Decision Tree Regression"
   ]
  },
  {
   "cell_type": "code",
   "execution_count": 127,
   "id": "7ff04ee5",
   "metadata": {},
   "outputs": [],
   "source": [
    "regr_1 = DecisionTreeRegressor(max_depth=4)\n",
    "\n",
    "regr_2 = AdaBoostRegressor(\n",
    "    DecisionTreeRegressor(max_depth=4), n_estimators=300, random_state=np.random.RandomState(1)\n",
    ")"
   ]
  },
  {
   "cell_type": "code",
   "execution_count": 128,
   "id": "1920a103",
   "metadata": {},
   "outputs": [
    {
     "name": "stderr",
     "output_type": "stream",
     "text": [
      "/Users/anateresaneto/opt/miniconda3/envs/my_env/lib/python3.9/site-packages/sklearn/utils/validation.py:63: DataConversionWarning: A column-vector y was passed when a 1d array was expected. Please change the shape of y to (n_samples, ), for example using ravel().\n",
      "  return f(*args, **kwargs)\n"
     ]
    },
    {
     "data": {
      "text/plain": [
       "AdaBoostRegressor(base_estimator=DecisionTreeRegressor(max_depth=4),\n",
       "                  n_estimators=300,\n",
       "                  random_state=RandomState(MT19937) at 0x7F92DADEF040)"
      ]
     },
     "execution_count": 128,
     "metadata": {},
     "output_type": "execute_result"
    }
   ],
   "source": [
    "regr_1.fit(X_train, y_train)\n",
    "regr_2.fit(X_train, y_train)"
   ]
  },
  {
   "cell_type": "code",
   "execution_count": 129,
   "id": "69b6f4fc",
   "metadata": {},
   "outputs": [],
   "source": [
    "y_1 = regr_1.predict(X_test)\n",
    "y_2 = regr_2.predict(X_test)"
   ]
  },
  {
   "cell_type": "code",
   "execution_count": null,
   "id": "37e60218",
   "metadata": {},
   "outputs": [],
   "source": []
  }
 ],
 "metadata": {
  "kernelspec": {
   "display_name": "my_env",
   "language": "python",
   "name": "my_env"
  },
  "language_info": {
   "codemirror_mode": {
    "name": "ipython",
    "version": 3
   },
   "file_extension": ".py",
   "mimetype": "text/x-python",
   "name": "python",
   "nbconvert_exporter": "python",
   "pygments_lexer": "ipython3",
   "version": "3.9.7"
  }
 },
 "nbformat": 4,
 "nbformat_minor": 5
}
