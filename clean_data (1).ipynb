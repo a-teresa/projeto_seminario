{
 "cells": [
  {
   "cell_type": "code",
   "execution_count": 1,
   "id": "c417a907",
   "metadata": {},
   "outputs": [],
   "source": [
    "import pandas as pd\n",
    "import matplotlib as plt\n",
    "%matplotlib inline"
   ]
  },
  {
   "cell_type": "code",
   "execution_count": 2,
   "id": "e0bf2e14",
   "metadata": {},
   "outputs": [],
   "source": [
    "#import dataframe\n",
    "df_apart = pd.read_csv('dados_apartamentos.csv',  encoding = \"ISO-8859-1\", sep=';', header=0)\n",
    "df_houses = pd.read_csv('houses_dados.csv',encoding = \"ISO-8859-1\", sep=';', header=0) "
   ]
  },
  {
   "cell_type": "code",
   "execution_count": 3,
   "id": "8b31e19e",
   "metadata": {},
   "outputs": [],
   "source": [
    "#drop empty columns\n",
    "df_apart = df_apart.drop(['Unnamed: 13','Unnamed: 14', 'Unnamed: 15', 'Unnamed: 16', 'Unnamed: 17','Unnamed: 18', 'Unnamed: 19', 'Unnamed: 20', 'Unnamed: 21','Unnamed: 22', 'Unnamed: 23'], axis = 1)"
   ]
  },
  {
   "cell_type": "code",
   "execution_count": 4,
   "id": "a6deae7a",
   "metadata": {},
   "outputs": [],
   "source": [
    "#drop duplicated column and Distance (distance from ..?)\n",
    "df_houses=df_houses.drop(['Condition.1', 'Distance'], axis =1)"
   ]
  },
  {
   "cell_type": "code",
   "execution_count": 5,
   "id": "e47fe072",
   "metadata": {},
   "outputs": [],
   "source": [
    "#rename column\n",
    "df_houses.rename(columns={'Entry Date': 'entry_date', 'Property type': 'property_type', 'Areas (sqm)':'areas_sqm','Û/sqm': 'euros/sqm', 'Built year':'built_year'}, inplace=True)\n",
    "df_apart.rename(columns={'Entry Date': 'entry_date', 'Property type': 'property_type', 'Areas (sqm)':'areas_sqm','Built year':'built_year'}, inplace=True)"
   ]
  },
  {
   "cell_type": "code",
   "execution_count": 9,
   "id": "c21f49c7",
   "metadata": {},
   "outputs": [],
   "source": [
    "# clean sqm from Areas (sqm) \n",
    "df_apart['areas_sqm'] = df_apart['areas_sqm'].str.extract('(\\d+)', expand=False)"
   ]
  },
  {
   "cell_type": "code",
   "execution_count": 10,
   "id": "07907f12",
   "metadata": {
    "scrolled": false
   },
   "outputs": [
    {
     "data": {
      "text/html": [
       "<div>\n",
       "<style scoped>\n",
       "    .dataframe tbody tr th:only-of-type {\n",
       "        vertical-align: middle;\n",
       "    }\n",
       "\n",
       "    .dataframe tbody tr th {\n",
       "        vertical-align: top;\n",
       "    }\n",
       "\n",
       "    .dataframe thead th {\n",
       "        text-align: right;\n",
       "    }\n",
       "</style>\n",
       "<table border=\"1\" class=\"dataframe\">\n",
       "  <thead>\n",
       "    <tr style=\"text-align: right;\">\n",
       "      <th></th>\n",
       "      <th>entry_date</th>\n",
       "      <th>property_type</th>\n",
       "      <th>Tipology</th>\n",
       "      <th>Condition</th>\n",
       "      <th>Location</th>\n",
       "      <th>Price</th>\n",
       "      <th>areas_sqm</th>\n",
       "      <th>euros/sqm</th>\n",
       "      <th>built_year</th>\n",
       "      <th>Latitude</th>\n",
       "      <th>Longitude</th>\n",
       "      <th>Characteristics</th>\n",
       "      <th>Mister URL</th>\n",
       "      <th>Areas (sqm)</th>\n",
       "    </tr>\n",
       "  </thead>\n",
       "  <tbody>\n",
       "    <tr>\n",
       "      <th>0</th>\n",
       "      <td>20/07/20</td>\n",
       "      <td>Apartments</td>\n",
       "      <td>T2</td>\n",
       "      <td>Used</td>\n",
       "      <td>Aveiro,Aveiro,Aradas</td>\n",
       "      <td>145000</td>\n",
       "      <td>96</td>\n",
       "      <td>1518</td>\n",
       "      <td>NaN</td>\n",
       "      <td>NaN</td>\n",
       "      <td>NaN</td>\n",
       "      <td>NaN</td>\n",
       "      <td>http://primeavm.prime-yield.com/property/5788813</td>\n",
       "      <td>96</td>\n",
       "    </tr>\n",
       "    <tr>\n",
       "      <th>1</th>\n",
       "      <td>20/07/20</td>\n",
       "      <td>Apartments</td>\n",
       "      <td>T2</td>\n",
       "      <td>Used</td>\n",
       "      <td>Aveiro,Aveiro,Aradas</td>\n",
       "      <td>155000</td>\n",
       "      <td>119</td>\n",
       "      <td>1303</td>\n",
       "      <td>NaN</td>\n",
       "      <td>NaN</td>\n",
       "      <td>NaN</td>\n",
       "      <td>NaN</td>\n",
       "      <td>http://primeavm.prime-yield.com/property/5788814</td>\n",
       "      <td>119</td>\n",
       "    </tr>\n",
       "    <tr>\n",
       "      <th>2</th>\n",
       "      <td>20/07/20</td>\n",
       "      <td>Apartments</td>\n",
       "      <td>T2</td>\n",
       "      <td>Used</td>\n",
       "      <td>Aveiro,Aveiro,Aradas</td>\n",
       "      <td>118000</td>\n",
       "      <td>72</td>\n",
       "      <td>1639</td>\n",
       "      <td>NaN</td>\n",
       "      <td>NaN</td>\n",
       "      <td>NaN</td>\n",
       "      <td>NaN</td>\n",
       "      <td>http://primeavm.prime-yield.com/property/5788815</td>\n",
       "      <td>72</td>\n",
       "    </tr>\n",
       "    <tr>\n",
       "      <th>3</th>\n",
       "      <td>20/07/20</td>\n",
       "      <td>Apartments</td>\n",
       "      <td>T2</td>\n",
       "      <td>Used</td>\n",
       "      <td>Aveiro,Aveiro,Aradas</td>\n",
       "      <td>185000</td>\n",
       "      <td>90</td>\n",
       "      <td>2056</td>\n",
       "      <td>NaN</td>\n",
       "      <td>NaN</td>\n",
       "      <td>NaN</td>\n",
       "      <td>NaN</td>\n",
       "      <td>http://primeavm.prime-yield.com/property/5788816</td>\n",
       "      <td>90</td>\n",
       "    </tr>\n",
       "    <tr>\n",
       "      <th>4</th>\n",
       "      <td>20/07/20</td>\n",
       "      <td>Apartments</td>\n",
       "      <td>T2</td>\n",
       "      <td>New</td>\n",
       "      <td>Aveiro,Aveiro,Aradas</td>\n",
       "      <td>295000</td>\n",
       "      <td>126</td>\n",
       "      <td>2351</td>\n",
       "      <td>NaN</td>\n",
       "      <td>NaN</td>\n",
       "      <td>NaN</td>\n",
       "      <td>NaN</td>\n",
       "      <td>http://primeavm.prime-yield.com/property/5788817</td>\n",
       "      <td>126</td>\n",
       "    </tr>\n",
       "  </tbody>\n",
       "</table>\n",
       "</div>"
      ],
      "text/plain": [
       "  entry_date property_type Tipology Condition              Location   Price  \\\n",
       "0   20/07/20    Apartments       T2      Used  Aveiro,Aveiro,Aradas  145000   \n",
       "1   20/07/20    Apartments       T2      Used  Aveiro,Aveiro,Aradas  155000   \n",
       "2   20/07/20    Apartments       T2      Used  Aveiro,Aveiro,Aradas  118000   \n",
       "3   20/07/20    Apartments       T2      Used  Aveiro,Aveiro,Aradas  185000   \n",
       "4   20/07/20    Apartments       T2       New  Aveiro,Aveiro,Aradas  295000   \n",
       "\n",
       "  areas_sqm  euros/sqm  built_year Latitude Longitude Characteristics  \\\n",
       "0        96       1518         NaN      NaN       NaN             NaN   \n",
       "1       119       1303         NaN      NaN       NaN             NaN   \n",
       "2        72       1639         NaN      NaN       NaN             NaN   \n",
       "3        90       2056         NaN      NaN       NaN             NaN   \n",
       "4       126       2351         NaN      NaN       NaN             NaN   \n",
       "\n",
       "                                         Mister URL Areas (sqm)  \n",
       "0  http://primeavm.prime-yield.com/property/5788813          96  \n",
       "1  http://primeavm.prime-yield.com/property/5788814         119  \n",
       "2  http://primeavm.prime-yield.com/property/5788815          72  \n",
       "3  http://primeavm.prime-yield.com/property/5788816          90  \n",
       "4  http://primeavm.prime-yield.com/property/5788817         126  "
      ]
     },
     "execution_count": 10,
     "metadata": {},
     "output_type": "execute_result"
    }
   ],
   "source": [
    "df_apart.head()"
   ]
  },
  {
   "cell_type": "code",
   "execution_count": 11,
   "id": "0dc7e7e7",
   "metadata": {},
   "outputs": [
    {
     "data": {
      "text/html": [
       "<div>\n",
       "<style scoped>\n",
       "    .dataframe tbody tr th:only-of-type {\n",
       "        vertical-align: middle;\n",
       "    }\n",
       "\n",
       "    .dataframe tbody tr th {\n",
       "        vertical-align: top;\n",
       "    }\n",
       "\n",
       "    .dataframe thead th {\n",
       "        text-align: right;\n",
       "    }\n",
       "</style>\n",
       "<table border=\"1\" class=\"dataframe\">\n",
       "  <thead>\n",
       "    <tr style=\"text-align: right;\">\n",
       "      <th></th>\n",
       "      <th>entry_date</th>\n",
       "      <th>property_type</th>\n",
       "      <th>Tipology</th>\n",
       "      <th>Condition</th>\n",
       "      <th>Location</th>\n",
       "      <th>Price</th>\n",
       "      <th>areas_sqm</th>\n",
       "      <th>euros/sqm</th>\n",
       "      <th>built_year</th>\n",
       "      <th>Latitude</th>\n",
       "      <th>Longitude</th>\n",
       "      <th>Characteristics</th>\n",
       "    </tr>\n",
       "  </thead>\n",
       "  <tbody>\n",
       "    <tr>\n",
       "      <th>0</th>\n",
       "      <td>21/02/21</td>\n",
       "      <td>Houses</td>\n",
       "      <td>T4</td>\n",
       "      <td>Used</td>\n",
       "      <td>Aveiro,êlhavo,Gafanha da Encarnao</td>\n",
       "      <td>570000</td>\n",
       "      <td>175</td>\n",
       "      <td>3257,14</td>\n",
       "      <td>NaN</td>\n",
       "      <td>NaN</td>\n",
       "      <td>NaN</td>\n",
       "      <td>NaN</td>\n",
       "    </tr>\n",
       "    <tr>\n",
       "      <th>1</th>\n",
       "      <td>21/02/21</td>\n",
       "      <td>Houses</td>\n",
       "      <td>T3</td>\n",
       "      <td>Used</td>\n",
       "      <td>Aveiro,êlhavo,Gafanha da Encarnao</td>\n",
       "      <td>320000</td>\n",
       "      <td>258</td>\n",
       "      <td>1240,31</td>\n",
       "      <td>NaN</td>\n",
       "      <td>NaN</td>\n",
       "      <td>NaN</td>\n",
       "      <td>NaN</td>\n",
       "    </tr>\n",
       "    <tr>\n",
       "      <th>2</th>\n",
       "      <td>21/02/21</td>\n",
       "      <td>Houses</td>\n",
       "      <td>T3</td>\n",
       "      <td>Used</td>\n",
       "      <td>Aveiro,êlhavo,Gafanha da Encarnao</td>\n",
       "      <td>315000</td>\n",
       "      <td>140</td>\n",
       "      <td>2250,00</td>\n",
       "      <td>NaN</td>\n",
       "      <td>NaN</td>\n",
       "      <td>NaN</td>\n",
       "      <td>NaN</td>\n",
       "    </tr>\n",
       "    <tr>\n",
       "      <th>3</th>\n",
       "      <td>21/02/21</td>\n",
       "      <td>Houses</td>\n",
       "      <td>T4</td>\n",
       "      <td>Used</td>\n",
       "      <td>Aveiro,êlhavo,Gafanha da Encarnao</td>\n",
       "      <td>237000</td>\n",
       "      <td>194</td>\n",
       "      <td>1221,65</td>\n",
       "      <td>NaN</td>\n",
       "      <td>NaN</td>\n",
       "      <td>NaN</td>\n",
       "      <td>NaN</td>\n",
       "    </tr>\n",
       "    <tr>\n",
       "      <th>4</th>\n",
       "      <td>21/02/21</td>\n",
       "      <td>Houses</td>\n",
       "      <td>T4</td>\n",
       "      <td>Used</td>\n",
       "      <td>Aveiro,êlhavo,Gafanha da Encarnao</td>\n",
       "      <td>580000</td>\n",
       "      <td>193</td>\n",
       "      <td>3005,18</td>\n",
       "      <td>NaN</td>\n",
       "      <td>NaN</td>\n",
       "      <td>NaN</td>\n",
       "      <td>NaN</td>\n",
       "    </tr>\n",
       "  </tbody>\n",
       "</table>\n",
       "</div>"
      ],
      "text/plain": [
       "  entry_date property_type Tipology Condition  \\\n",
       "0   21/02/21        Houses       T4      Used   \n",
       "1   21/02/21        Houses       T3      Used   \n",
       "2   21/02/21        Houses       T3      Used   \n",
       "3   21/02/21        Houses       T4      Used   \n",
       "4   21/02/21        Houses       T4      Used   \n",
       "\n",
       "                              Location   Price areas_sqm euros/sqm built_year  \\\n",
       "0  Aveiro,êlhavo,Gafanha da Encarnao  570000       175   3257,14        NaN   \n",
       "1  Aveiro,êlhavo,Gafanha da Encarnao  320000       258   1240,31        NaN   \n",
       "2  Aveiro,êlhavo,Gafanha da Encarnao  315000       140   2250,00        NaN   \n",
       "3  Aveiro,êlhavo,Gafanha da Encarnao  237000       194   1221,65        NaN   \n",
       "4  Aveiro,êlhavo,Gafanha da Encarnao  580000       193   3005,18        NaN   \n",
       "\n",
       "  Latitude Longitude Characteristics  \n",
       "0      NaN       NaN             NaN  \n",
       "1      NaN       NaN             NaN  \n",
       "2      NaN       NaN             NaN  \n",
       "3      NaN       NaN             NaN  \n",
       "4      NaN       NaN             NaN  "
      ]
     },
     "execution_count": 11,
     "metadata": {},
     "output_type": "execute_result"
    }
   ],
   "source": [
    "df_houses.head()"
   ]
  },
  {
   "cell_type": "code",
   "execution_count": 12,
   "id": "53006c3b",
   "metadata": {},
   "outputs": [
    {
     "name": "stdout",
     "output_type": "stream",
     "text": [
      "(3654, 14)\n",
      "(526, 12)\n"
     ]
    }
   ],
   "source": [
    "#shape of datasets\n",
    "print(df_apart.shape)\n",
    "print(df_houses.shape)"
   ]
  },
  {
   "cell_type": "code",
   "execution_count": 13,
   "id": "072e76bc",
   "metadata": {},
   "outputs": [
    {
     "name": "stdout",
     "output_type": "stream",
     "text": [
      "entry_date            0\n",
      "property_type         0\n",
      "Tipology              0\n",
      "Condition             0\n",
      "Location              0\n",
      "Price                 0\n",
      "areas_sqm             0\n",
      "euros/sqm             0\n",
      "built_year          968\n",
      "Latitude           1588\n",
      "Longitude          1588\n",
      "Characteristics    2315\n",
      "Mister URL            0\n",
      "Areas (sqm)           0\n",
      "dtype: int64\n",
      "entry_date           0\n",
      "property_type        0\n",
      "Tipology             0\n",
      "Condition            0\n",
      "Location             0\n",
      "Price                0\n",
      "areas_sqm            0\n",
      "euros/sqm            0\n",
      "built_year         143\n",
      "Latitude           142\n",
      "Longitude          142\n",
      "Characteristics    523\n",
      "dtype: int64\n"
     ]
    }
   ],
   "source": [
    "#find nulls\n",
    "col_null_apart = df_apart.isnull().sum()\n",
    "col_null_houses = df_houses.isnull().sum()\n",
    "print(col_null_apart)\n",
    "print(col_null_houses)"
   ]
  },
  {
   "cell_type": "code",
   "execution_count": 35,
   "id": "593616c2",
   "metadata": {},
   "outputs": [
    {
     "name": "stdout",
     "output_type": "stream",
     "text": [
      "T2    1457\n",
      "T3    1108\n",
      "T1     569\n",
      "T4     332\n",
      "T0     169\n",
      "T5      19\n",
      "Name: Tipology, dtype: int64\n",
      "T4    223\n",
      "T3    181\n",
      "T2     59\n",
      "T5     41\n",
      "T6     21\n",
      "T1      1\n",
      "Name: Tipology, dtype: int64\n"
     ]
    }
   ],
   "source": [
    "apart_tip = df_apart['Tipology'].value_counts()\n",
    "house_tip = df_houses['Tipology'].value_counts()\n",
    "print(apart_tip)\n",
    "print(house_tip)"
   ]
  },
  {
   "cell_type": "code",
   "execution_count": 15,
   "id": "88501b0c",
   "metadata": {},
   "outputs": [
    {
     "name": "stdout",
     "output_type": "stream",
     "text": [
      "entry_date          object\n",
      "property_type       object\n",
      "Tipology            object\n",
      "Condition           object\n",
      "Location            object\n",
      "Price                int64\n",
      "areas_sqm           object\n",
      "euros/sqm            int64\n",
      "built_year         float64\n",
      "Latitude            object\n",
      "Longitude           object\n",
      "Characteristics     object\n",
      "Mister URL          object\n",
      "Areas (sqm)         object\n",
      "dtype: object\n",
      "entry_date         object\n",
      "property_type      object\n",
      "Tipology           object\n",
      "Condition          object\n",
      "Location           object\n",
      "Price               int64\n",
      "areas_sqm          object\n",
      "euros/sqm          object\n",
      "built_year         object\n",
      "Latitude           object\n",
      "Longitude          object\n",
      "Characteristics    object\n",
      "dtype: object\n"
     ]
    }
   ],
   "source": [
    "print(df_apart.dtypes)"
   ]
  },
  {
   "cell_type": "code",
   "execution_count": 16,
   "id": "d31df5fd",
   "metadata": {},
   "outputs": [
    {
     "name": "stdout",
     "output_type": "stream",
     "text": [
      "entry_date         object\n",
      "property_type      object\n",
      "Tipology           object\n",
      "Condition          object\n",
      "Location           object\n",
      "Price               int64\n",
      "areas_sqm          object\n",
      "euros/sqm          object\n",
      "built_year         object\n",
      "Latitude           object\n",
      "Longitude          object\n",
      "Characteristics    object\n",
      "dtype: object\n"
     ]
    }
   ],
   "source": [
    "print(df_houses.dtypes)"
   ]
  },
  {
   "cell_type": "code",
   "execution_count": 41,
   "id": "f018a0d7",
   "metadata": {},
   "outputs": [
    {
     "data": {
      "text/plain": [
       "<AxesSubplot:>"
      ]
     },
     "execution_count": 41,
     "metadata": {},
     "output_type": "execute_result"
    },
    {
     "data": {
      "image/png": "[encoded data removed]",
      "text/plain": [
       "<Figure size 432x288 with 1 Axes>"
      ]
     },
     "metadata": {
      "needs_background": "light"
     },
     "output_type": "display_data"
    }
   ],
   "source": [
    "(apart_tip/df_apart.shape[0]).plot(kind = 'bar')\n",
    "#percentagem de apartamentos por tipologia"
   ]
  },
  {
   "cell_type": "code",
   "execution_count": 42,
   "id": "30e389ce",
   "metadata": {},
   "outputs": [
    {
     "data": {
      "text/plain": [
       "<AxesSubplot:>"
      ]
     },
     "execution_count": 42,
     "metadata": {},
     "output_type": "execute_result"
    },
    {
     "data": {
      "image/png": "[encoded data removed]",
      "text/plain": [
       "<Figure size 432x288 with 1 Axes>"
      ]
     },
     "metadata": {
      "needs_background": "light"
     },
     "output_type": "display_data"
    }
   ],
   "source": [
    "(house_tip/df_houses.shape[0]).plot(kind = 'bar')\n",
    "#percentagem de casas por tipologia"
   ]
  },
  {
   "cell_type": "code",
   "execution_count": 21,
   "id": "4a6fb3e0",
   "metadata": {},
   "outputs": [
    {
     "data": {
      "text/plain": [
       "Tipology\n",
       "T0    132109.467456\n",
       "T1    153714.938489\n",
       "T2    209469.621139\n",
       "T3    270849.129061\n",
       "T4    336612.123494\n",
       "T5    347421.052632\n",
       "Name: Price, dtype: float64"
      ]
     },
     "execution_count": 21,
     "metadata": {},
     "output_type": "execute_result"
    }
   ],
   "source": [
    "#prices by tipology - mean\n",
    "df_apart.groupby(['Tipology']).mean()['Price'].sort_values()"
   ]
  },
  {
   "cell_type": "code",
   "execution_count": 22,
   "id": "c2394006",
   "metadata": {},
   "outputs": [
    {
     "data": {
      "text/plain": [
       "Tipology\n",
       "T1    120000.000000\n",
       "T2    144503.661017\n",
       "T3    278587.237569\n",
       "T6    295095.238095\n",
       "T5    358768.292683\n",
       "T4    363281.838565\n",
       "Name: Price, dtype: float64"
      ]
     },
     "execution_count": 22,
     "metadata": {},
     "output_type": "execute_result"
    }
   ],
   "source": [
    "df_houses.groupby(['Tipology']).mean()['Price'].sort_values()"
   ]
  },
  {
   "cell_type": "code",
   "execution_count": 25,
   "id": "e64048f0",
   "metadata": {},
   "outputs": [
    {
     "data": {
      "text/plain": [
       "Condition\n",
       "Renovated             160614.238095\n",
       "To Recuperate         183681.818182\n",
       "Used                  213328.568642\n",
       "Under Project         225941.904762\n",
       "New                   263283.062130\n",
       "Under Construction    277358.090452\n",
       "Name: Price, dtype: float64"
      ]
     },
     "execution_count": 25,
     "metadata": {},
     "output_type": "execute_result"
    }
   ],
   "source": [
    "#prices by Condition\n",
    "df_apart.groupby(['Condition']).mean()['Price'].sort_values()"
   ]
  },
  {
   "cell_type": "code",
   "execution_count": 26,
   "id": "9fd3b4ba",
   "metadata": {},
   "outputs": [
    {
     "data": {
      "text/plain": [
       "Condition\n",
       "Ruin                  104100.000000\n",
       "To Recuperate         115250.000000\n",
       "Renovated             275000.000000\n",
       "Used                  297259.192661\n",
       "Under Construction    324219.178082\n",
       "New                   348704.687500\n",
       "Under Project         435000.000000\n",
       "Name: Price, dtype: float64"
      ]
     },
     "execution_count": 26,
     "metadata": {},
     "output_type": "execute_result"
    }
   ],
   "source": [
    "df_houses.groupby(['Condition']).mean()['Price'].sort_values()"
   ]
  },
  {
   "cell_type": "code",
   "execution_count": null,
   "id": "d3071d07",
   "metadata": {},
   "outputs": [],
   "source": []
  }
 ],
 "metadata": {
  "kernelspec": {
   "display_name": "my_env",
   "language": "python",
   "name": "my_env"
  },
  "language_info": {
   "codemirror_mode": {
    "name": "ipython",
    "version": 3
   },
   "file_extension": ".py",
   "mimetype": "text/x-python",
   "name": "python",
   "nbconvert_exporter": "python",
   "pygments_lexer": "ipython3",
   "version": "3.9.7"
  }
 },
 "nbformat": 4,
 "nbformat_minor": 5
}
