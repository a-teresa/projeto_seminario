{
  "cells": [
    {
      "cell_type": "markdown",
      "metadata": {
        "id": "view-in-github",
        "colab_type": "text"
      },
      "source": [
        "<a href=\"https://colab.research.google.com/github/a-teresa/projeto_seminario/blob/main/projetoA_web_scraping_2.ipynb\" target=\"_parent\"><img src=\"https://colab.research.google.com/assets/colab-badge.svg\" alt=\"Open In Colab\"/></a>"
      ]
    },
    {
      "cell_type": "markdown",
      "id": "245e805c",
      "metadata": {
        "id": "245e805c"
      },
      "source": [
        "### Moradias no município de lisboa: pesquisa de atributos"
      ]
    },
    {
      "cell_type": "code",
      "execution_count": 1,
      "id": "5c69fa69",
      "metadata": {
        "id": "5c69fa69"
      },
      "outputs": [],
      "source": [
        "import requests\n",
        "from bs4 import BeautifulSoup\n",
        "import requests\n",
        "from urllib.request import urlopen\n",
        "import re"
      ]
    },
    {
      "cell_type": "code",
      "execution_count": 2,
      "id": "c8307872",
      "metadata": {
        "id": "c8307872"
      },
      "outputs": [],
      "source": [
        "##experiencia1\n",
        "url =  'https://casa.sapo.pt/comprar-moradias/lisboa/'\n",
        "# make request look like a normal browser\n",
        "headers = {'User-Agent': 'Mozilla/5.0 (Windows NT 6.1; WOW64) AppleWebKit/537.36 (KHTML, like Gecko) Chrome/56.0.2924.76 Safari/537.36'} \n",
        "# Requesting the sites content\n",
        "page = requests.get(url,headers=headers)\n",
        "soup = BeautifulSoup(page.text, \"html.parser\")\n",
        "# get links\n",
        "links_html = soup.find_all('a', class_='property-info')\n",
        "#links_html = soup.find_all('div', class_='property-info-content')\n",
        "# Turn the soup into a list of strings\n",
        "links_v1 = [str(x) for x in links_html]\n",
        "# Extract links for all regions\n",
        "pattern = 'href=\"(.*)\">'    \n",
        "links_v2 = [re.search(pattern, x).group(1) for x in links_v1]\n",
        "\n"
      ]
    },
    {
      "cell_type": "code",
      "execution_count": null,
      "id": "5c36057c",
      "metadata": {
        "scrolled": false,
        "id": "5c36057c"
      },
      "outputs": [],
      "source": [
        "#print(links_v2)"
      ]
    },
    {
      "cell_type": "code",
      "execution_count": 3,
      "id": "12c5b7c8",
      "metadata": {
        "id": "12c5b7c8"
      },
      "outputs": [],
      "source": [
        "from bs4 import BeautifulSoup\n",
        "from requests import get\n",
        "import pandas as pd\n",
        "import itertools\n"
      ]
    },
    {
      "cell_type": "code",
      "execution_count": 4,
      "id": "baa5c7ba",
      "metadata": {
        "id": "baa5c7ba"
      },
      "outputs": [],
      "source": [
        "headers = {'User-Agent': 'Mozilla/5.0 (Windows NT 6.1; WOW64) AppleWebKit/537.36 (KHTML, like Gecko) Chrome/56.0.2924.76 Safari/537.36'} \n"
      ]
    },
    {
      "cell_type": "code",
      "execution_count": 5,
      "id": "44633d25",
      "metadata": {
        "id": "44633d25"
      },
      "outputs": [],
      "source": [
        "url = 'https://casa.sapo.pt/comprar-moradias/lisboa/'\n",
        "req = requests.get(url, headers = headers)\n",
        "soup = BeautifulSoup(req.text, 'html.parser')"
      ]
    },
    {
      "cell_type": "code",
      "execution_count": 6,
      "id": "4bbc61e5",
      "metadata": {
        "id": "4bbc61e5"
      },
      "outputs": [],
      "source": [
        "contents = soup.find_all('a', class_=\"property-info\")"
      ]
    },
    {
      "cell_type": "code",
      "execution_count": 7,
      "id": "ae93a6e0",
      "metadata": {
        "id": "ae93a6e0"
      },
      "outputs": [],
      "source": [
        "price = soup.find_all('div', class_=\"property-price-value\")"
      ]
    },
    {
      "cell_type": "code",
      "execution_count": 8,
      "id": "0fb145cd",
      "metadata": {
        "colab": {
          "base_uri": "https://localhost:8080/"
        },
        "id": "0fb145cd",
        "outputId": "6185315f-f11c-4f4d-d6af-e5bd051f3baa"
      },
      "outputs": [
        {
          "output_type": "execute_result",
          "data": {
            "text/plain": [
              "['2.280.000',\n",
              " '990.000',\n",
              " '525.000',\n",
              " '2.590.000',\n",
              " '3.500.000',\n",
              " '2.650.000',\n",
              " '1.800.000',\n",
              " '2.795.000',\n",
              " '1.200.000',\n",
              " '5.000.000',\n",
              " '430.000',\n",
              " '1.875.000',\n",
              " '485.000',\n",
              " '4.800.000',\n",
              " '510.000',\n",
              " '1.700.791',\n",
              " '4.400.000',\n",
              " '265.000',\n",
              " '265.000',\n",
              " '6.300.000',\n",
              " '1.980.000',\n",
              " '265.000',\n",
              " '860.000',\n",
              " '850.000',\n",
              " '699.000',\n",
              " '1.450.000']"
            ]
          },
          "metadata": {},
          "execution_count": 8
        }
      ],
      "source": [
        "price = str(price)\n",
        "re.findall(r\"[-+]?[.]?[\\d]+(?:,\\d\\d\\d)*[\\.]?\\d*[\\.]?\\d*\", price)"
      ]
    },
    {
      "cell_type": "markdown",
      "id": "06ebfeaa",
      "metadata": {
        "id": "06ebfeaa"
      },
      "source": [
        "### Criação das listas e pesquisa da informação correspondente"
      ]
    },
    {
      "cell_type": "code",
      "execution_count": 91,
      "id": "764d9b12",
      "metadata": {
        "scrolled": false,
        "id": "764d9b12"
      },
      "outputs": [],
      "source": [
        "# listas com resultados\n",
        "links = []    #property-info-content\n",
        "prices = []  #Done\n",
        "areas = []   #Done, seprarar em 2\n",
        "locations = [] #Done\n",
        "types = [] #Done\n",
        "##descriptions = [] isto são texto, teriamos que arranjar um dicionario para tratar isto. Será que temos tempo para fazer isto? "
      ]
    },
    {
      "cell_type": "code",
      "execution_count": 92,
      "id": "320dddcd",
      "metadata": {
        "colab": {
          "base_uri": "https://localhost:8080/"
        },
        "id": "320dddcd",
        "outputId": "23a73610-ecaa-482b-80d0-29781b59e53d"
      },
      "outputs": [
        {
          "output_type": "stream",
          "name": "stdout",
          "text": [
            "[<a class=\"property-info\" href=\"https://gespub.casa.sapo.pt/v3/webinterface/client/counter.aspx?c=1&amp;p=798156&amp;s=0&amp;ps=1&amp;SA=11&amp;TW=153&amp;MCA=2&amp;BU=1&amp;l=https://casa.sapo.pt/comprar-moradia-t4-lisboa-campo-de-ourique-e1a9d42a-c37e-11ec-9c85-060000000052.html?g3pid=798156\" onclick=\"Search.setLastSearch('e1a9d42a-c37e-11ec-9c85-060000000052');\" title=\"Ver Moradia T4 para comprar em Lisboa, Campo de Ourique\">\n",
            "<div class=\"property-type\">Moradia T4</div>\n",
            "<div class=\"property-location\">Campo de Ourique, Lisboa, Distrito de Lisboa</div>\n",
            "<div class=\"property-features\">\n",
            "<div class=\"property-features-text\">385m²</div>\n",
            "</div>\n",
            "<div class=\"property-price\">\n",
            "<div class=\"property-price-item\">\n",
            "<div class=\"property-price-type\">comprar</div>\n",
            "<div class=\"property-price-value\">2.280.000 €</div>\n",
            "</div>\n",
            "</div>\n",
            "</a>, <a class=\"property-info\" href=\"https://gespub.casa.sapo.pt/v3/webinterface/client/counter.aspx?c=1&amp;p=797888&amp;s=0&amp;ps=1&amp;SA=11&amp;TW=153&amp;MCA=2&amp;BU=1&amp;l=https://casa.sapo.pt/comprar-moradia-isolada-t6-ou-superior-lisboa-lumiar-ameixoeira-8c285b13-c555-11eb-9c85-060000000052.html?g3pid=797888\" onclick=\"Search.setLastSearch('8c285b13-c555-11eb-9c85-060000000052');\" title=\"Ver Moradia Isolada T6 ou superior para comprar em Lisboa, Lumiar, Ameixoeira\">\n",
            "<div class=\"property-type\">Moradia Isolada T6 Duplex</div>\n",
            "<div class=\"property-location\">Ameixoeira, Lumiar, Lisboa, Distrito de Lisboa</div>\n",
            "<div class=\"property-features\">\n",
            "<div class=\"property-features-text\">Renovado  ·  378m²</div>\n",
            "<div class=\"property-features-tag\">\n",
            "<span>Com Garagem</span>\n",
            "</div>\n",
            "</div>\n",
            "<div class=\"property-price\">\n",
            "<div class=\"property-price-item\">\n",
            "<div class=\"property-price-type\">comprar</div>\n",
            "<div class=\"property-price-value\">990.000 €</div>\n",
            "</div>\n",
            "</div>\n",
            "</a>, <a class=\"property-info\" href=\"https://gespub.casa.sapo.pt/v3/webinterface/client/counter.aspx?c=1&amp;p=797773&amp;s=0&amp;ps=1&amp;SA=11&amp;TW=153&amp;MCA=2&amp;BU=1&amp;l=https://casa.sapo.pt/comprar-moradia-em-banda-lisboa-paiva-couceiro-(penha-de-franca)-2470099f-bd04-4531-82db-b2b219f17922.html?g3pid=797773\" onclick=\"Search.setLastSearch('2470099f-bd04-4531-82db-b2b219f17922');\" title=\"Ver Moradia em Banda para comprar em Lisboa, Paiva Couceiro (Penha de França)\">\n",
            "<div class=\"property-type\">Moradia em Banda T4</div>\n",
            "<div class=\"property-location\">Paiva Couceiro (Penha de França), Lisboa</div>\n",
            "<div class=\"property-features\">\n",
            "<div class=\"property-features-text\"></div>\n",
            "</div>\n",
            "<div class=\"property-price\">\n",
            "<div class=\"property-price-item\">\n",
            "<div class=\"property-price-type\">comprar</div>\n",
            "<div class=\"property-price-value\">525.000 €</div>\n",
            "</div>\n",
            "</div>\n",
            "</a>, <a class=\"property-info\" href=\"https://gespub.casa.sapo.pt/v3/webinterface/client/counter.aspx?c=1&amp;p=797634&amp;s=0&amp;ps=1&amp;SA=11&amp;TW=153&amp;MCA=2&amp;BU=1&amp;l=https://casa.sapo.pt/comprar-moradia-t5-lisboa-belem-ee40367b-5aad-11ec-91bc-060000000057.html?g3pid=797634\" onclick=\"Search.setLastSearch('ee40367b-5aad-11ec-91bc-060000000057');\" title=\"Ver Moradia T5 para comprar em Lisboa, Belém\">\n",
            "<div class=\"property-type\">Moradia T5 Duplex</div>\n",
            "<div class=\"property-location\">Belém, Lisboa, Distrito de Lisboa</div>\n",
            "<div class=\"property-features\">\n",
            "<div class=\"property-features-text\">280m²</div>\n",
            "</div>\n",
            "<div class=\"property-price\">\n",
            "<div class=\"property-price-item\">\n",
            "<div class=\"property-price-type\">comprar</div>\n",
            "<div class=\"property-price-value\">2.590.000 €</div>\n",
            "</div>\n",
            "</div>\n",
            "</a>, <a class=\"property-info\" href=\"https://gespub.casa.sapo.pt/v3/webinterface/client/counter.aspx?c=1&amp;p=796665&amp;s=0&amp;ps=1&amp;SA=11&amp;TW=153&amp;MCA=2&amp;BU=1&amp;l=https://casa.sapo.pt/comprar-moradia-t6-ou-superior-lisboa-belem-09db68c3-9988-11ec-9c85-060000000052.html?g3pid=796665\" onclick=\"Search.setLastSearch('09db68c3-9988-11ec-9c85-060000000052');\" title=\"Ver Moradia T6 ou superior para comprar em Lisboa, Belém\">\n",
            "<div class=\"property-type\">Moradia T7</div>\n",
            "<div class=\"property-location\">Belém, Lisboa, Distrito de Lisboa</div>\n",
            "<div class=\"property-features\">\n",
            "<div class=\"property-features-text\">Por recuperar  ·  900m²</div>\n",
            "<div class=\"property-features-tag\">\n",
            "<span>Com Garagem</span>\n",
            "</div>\n",
            "</div>\n",
            "<div class=\"property-price\">\n",
            "<div class=\"property-price-item\">\n",
            "<div class=\"property-price-type\">comprar</div>\n",
            "<div class=\"property-price-value\">3.500.000 €</div>\n",
            "</div>\n",
            "</div>\n",
            "</a>, <a class=\"property-info\" href=\"https://gespub.casa.sapo.pt/v3/webinterface/client/counter.aspx?c=1&amp;p=794962&amp;s=0&amp;ps=1&amp;SA=11&amp;TW=153&amp;MCA=2&amp;BU=1&amp;l=https://casa.sapo.pt/comprar-moradia-t6-ou-superior-lisboa-restelo-(santa-maria-de-belem)-acd0e6bc-8590-11ec-a521-060000000056.html?g3pid=794962\" onclick=\"Search.setLastSearch('acd0e6bc-8590-11ec-a521-060000000056');\" title=\"Ver Moradia T6 ou superior para comprar em Lisboa, Restelo (Santa Maria de Belém)\">\n",
            "<div class=\"property-type\">Moradia T7</div>\n",
            "<div class=\"property-location\">Restelo (Santa Maria de Belém), Lisboa, Distrito de Lisboa</div>\n",
            "<div class=\"property-features\">\n",
            "<div class=\"property-features-text\">430m²</div>\n",
            "<div class=\"property-features-tag\">\n",
            "<span>Com Garagem</span>\n",
            "</div>\n",
            "</div>\n",
            "<div class=\"property-price\">\n",
            "<div class=\"property-price-item\">\n",
            "<div class=\"property-price-type\">comprar</div>\n",
            "<div class=\"property-price-value\">2.650.000 €</div>\n",
            "</div>\n",
            "</div>\n",
            "</a>, <a class=\"property-info\" href=\"https://gespub.casa.sapo.pt/v3/webinterface/client/counter.aspx?c=1&amp;p=793535&amp;s=0&amp;ps=1&amp;SA=11&amp;TW=153&amp;MCA=2&amp;BU=1&amp;l=https://casa.sapo.pt/comprar-moradia-t2-lisboa-penha-de-franca-b6e6e9fb-6251-11ec-9c85-060000000052.html?g3pid=793535\" onclick=\"Search.setLastSearch('b6e6e9fb-6251-11ec-9c85-060000000052');\" title=\"Ver Moradia T2 para comprar em Lisboa, Penha de França\">\n",
            "<div class=\"property-type\">Moradia T2+2</div>\n",
            "<div class=\"property-location\">Penha de França, Lisboa, Distrito de Lisboa</div>\n",
            "<div class=\"property-features\">\n",
            "<div class=\"property-features-text\">Recuperado  ·  233m²</div>\n",
            "<div class=\"property-features-tag\">\n",
            "<span>Com Piscina</span>\n",
            "</div>\n",
            "</div>\n",
            "<div class=\"property-price\">\n",
            "<div class=\"property-price-item\">\n",
            "<div class=\"property-price-type\">comprar</div>\n",
            "<div class=\"property-price-value\">1.800.000 €</div>\n",
            "</div>\n",
            "</div>\n",
            "</a>, <a class=\"property-info\" href=\"/comprar-moradia-t6-ou-superior-lisboa-gago-coutinho-(alvalade)-e9a4431c-4d3d-11ec-aeeb-060000000051.html\" onclick=\"Search.setLastSearch('e9a4431c-4d3d-11ec-aeeb-060000000051');\" title=\"Ver Moradia T6 ou superior para comprar em Lisboa, Gago Coutinho (Alvalade)\">\n",
            "<div class=\"property-type\">Moradia T10</div>\n",
            "<div class=\"property-location\">Gago Coutinho (Alvalade), Lisboa, Distrito de Lisboa</div>\n",
            "<div class=\"property-features\">\n",
            "<div class=\"property-features-text\">Por recuperar  ·  820m²</div>\n",
            "<div class=\"property-features-tag\">\n",
            "<span>Com Garagem</span>\n",
            "</div>\n",
            "</div>\n",
            "<div class=\"property-price\">\n",
            "<div class=\"property-price-item\">\n",
            "<div class=\"property-price-type\">comprar</div>\n",
            "<div class=\"property-price-value\">2.795.000 €</div>\n",
            "</div>\n",
            "</div>\n",
            "</a>, <a class=\"property-info\" href=\"/comprar-moradia-t6-ou-superior-lisboa-alvalade-(sao-joao-de-brito)-0b366065-0692-11ec-9c85-060000000052.html\" onclick=\"Search.setLastSearch('0b366065-0692-11ec-9c85-060000000052');\" title=\"Ver Moradia T6 ou superior para comprar em Lisboa, Alvalade (São João de Brito)\">\n",
            "<div class=\"property-type\">Moradia T10</div>\n",
            "<div class=\"property-location\">Alvalade (São João de Brito), Lisboa, Distrito de Lisboa</div>\n",
            "<div class=\"property-features\">\n",
            "<div class=\"property-features-text\">865m²</div>\n",
            "</div>\n",
            "<div class=\"property-price\">\n",
            "<div class=\"property-price-item\">\n",
            "<div class=\"property-price-type\">comprar</div>\n",
            "<div class=\"property-price-value\">5.000.000 €</div>\n",
            "</div>\n",
            "</div>\n",
            "</a>, <a class=\"property-info\" href=\"/comprar-moradia-t3-lisboa-santo-antonio-pateo-bagatela-(sao-mamede)-575e69a2-f9cd-11eb-80b8-060000000053.html\" onclick=\"Search.setLastSearch('575e69a2-f9cd-11eb-80b8-060000000053');\" title=\"Ver Moradia T3 para comprar em Lisboa, Santo António, Páteo Bagatela (São Mamede)\">\n",
            "<div class=\"property-type\">Moradia T3</div>\n",
            "<div class=\"property-location\">Páteo Bagatela (São Mamede), Santo António, Lisboa, Distrito de Lisboa</div>\n",
            "<div class=\"property-features\">\n",
            "<div class=\"property-features-text\">113m²</div>\n",
            "<div class=\"property-features-tag\">\n",
            "<span>Com Garagem</span>\n",
            "</div>\n",
            "</div>\n",
            "<div class=\"property-price\">\n",
            "<div class=\"property-price-item\">\n",
            "<div class=\"property-price-type\">comprar</div>\n",
            "<div class=\"property-price-value\">1.200.000 €</div>\n",
            "</div>\n",
            "</div>\n",
            "</a>, <a class=\"property-info\" href=\"/comprar-moradia-t6-ou-superior-lisboa-alcantara-rua-da-junqueira-81bb0e66-071b-11ec-a521-060000000056.html\" onclick=\"Search.setLastSearch('81bb0e66-071b-11ec-a521-060000000056');\" title=\"Ver Moradia T6 ou superior para comprar em Lisboa, Alcântara, Rua da Junqueira\">\n",
            "<div class=\"property-type\">Moradia T20</div>\n",
            "<div class=\"property-location\">Rua da Junqueira, Alcântara, Lisboa, Distrito de Lisboa</div>\n",
            "<div class=\"property-features\">\n",
            "<div class=\"property-features-text\">1 250m²</div>\n",
            "<div class=\"property-features-tag\">\n",
            "<span>Com Garagem</span>\n",
            "</div>\n",
            "</div>\n",
            "<div class=\"property-price\">\n",
            "<div class=\"property-price-item\">\n",
            "<div class=\"property-price-type\">comprar</div>\n",
            "<div class=\"property-price-value\">4.400.000 €</div>\n",
            "</div>\n",
            "</div>\n",
            "</a>, <a class=\"property-info\" href=\"/comprar-moradia-t4-lisboa-paco-do-lumiar-ad89c819-cb42-11e9-9334-060000000056.html\" onclick=\"Search.setLastSearch('ad89c819-cb42-11e9-9334-060000000056');\" title=\"Ver Moradia T4 para comprar em Lisboa, Paço do Lumiar\">\n",
            "<div class=\"property-type\">Moradia T4+1</div>\n",
            "<div class=\"property-location\">Paço do Lumiar, Lisboa, Distrito de Lisboa</div>\n",
            "<div class=\"property-features\">\n",
            "<div class=\"property-features-text\">Em construção  ·  374m²</div>\n",
            "<div class=\"property-features-tag\">\n",
            "<span>Com Garagem</span>\n",
            "</div>\n",
            "</div>\n",
            "<div class=\"property-price\">\n",
            "<div class=\"property-price-item\">\n",
            "<div class=\"property-price-type\">comprar</div>\n",
            "<div class=\"property-price-value\">1.837.500 €</div>\n",
            "</div>\n",
            "</div>\n",
            "</a>, <a class=\"property-info\" href=\"/comprar-moradia-t4-lisboa-belem-(santa-maria-de-belem)-3acd1fc1-c24e-11ec-a521-060000000056.html\" onclick=\"Search.setLastSearch('3acd1fc1-c24e-11ec-a521-060000000056');\" title=\"Ver Moradia T4 para comprar em Lisboa, Belém (Santa Maria de Belém)\">\n",
            "<div class=\"property-type\">Moradia T4 Triplex</div>\n",
            "<div class=\"property-location\">Belém (Santa Maria de Belém), Lisboa, Distrito de Lisboa</div>\n",
            "<div class=\"property-features\">\n",
            "<div class=\"property-features-text\">267m²</div>\n",
            "</div>\n",
            "<div class=\"property-price\">\n",
            "<div class=\"property-price-item\">\n",
            "<div class=\"property-price-type\">comprar</div>\n",
            "<div class=\"property-price-value\">1.450.000 €</div>\n",
            "</div>\n",
            "</div>\n",
            "</a>, <a class=\"property-info\" href=\"/comprar-moradia-t6-ou-superior-lisboa-campo-de-ourique-4e76c3cc-2366-11ec-aeeb-060000000051.html\" onclick=\"Search.setLastSearch('4e76c3cc-2366-11ec-aeeb-060000000051');\" title=\"Ver Moradia T6 ou superior para comprar em Lisboa, Campo de Ourique\">\n",
            "<div class=\"property-type\">Moradia T6 Duplex</div>\n",
            "<div class=\"property-location\">Campo de Ourique, Lisboa, Distrito de Lisboa</div>\n",
            "<div class=\"property-features\">\n",
            "<div class=\"property-features-text\">225m²</div>\n",
            "</div>\n",
            "<div class=\"property-price\">\n",
            "<div class=\"property-price-item\">\n",
            "<div class=\"property-price-type\">comprar</div>\n",
            "<div class=\"property-price-value\">800.000 €</div>\n",
            "</div>\n",
            "</div>\n",
            "</a>, <a class=\"property-info\" href=\"/comprar-moradia-t3-lisboa-ajuda-2fe21c84-a673-11eb-a521-060000000056.html\" onclick=\"Search.setLastSearch('2fe21c84-a673-11eb-a521-060000000056');\" title=\"Ver Moradia T3 para comprar em Lisboa, Ajuda\">\n",
            "<div class=\"property-type\">Moradia T3</div>\n",
            "<div class=\"property-location\">Ajuda, Lisboa, Distrito de Lisboa</div>\n",
            "<div class=\"property-features\">\n",
            "<div class=\"property-features-text\">140m²</div>\n",
            "</div>\n",
            "<div class=\"property-price\">\n",
            "<div class=\"property-price-item\">\n",
            "<div class=\"property-price-type\">comprar</div>\n",
            "<div class=\"property-price-value\">265.000 €</div>\n",
            "</div>\n",
            "</div>\n",
            "</a>, <a class=\"property-info\" href=\"/comprar-moradia-t3-lisboa-ajuda-4ea27ea8-2434-11eb-9da0-060000000053.html\" onclick=\"Search.setLastSearch('4ea27ea8-2434-11eb-9da0-060000000053');\" title=\"Ver Moradia T3 para comprar em Lisboa, Ajuda\">\n",
            "<div class=\"property-type\">Moradia T3</div>\n",
            "<div class=\"property-location\">Ajuda, Lisboa, Distrito de Lisboa</div>\n",
            "<div class=\"property-features\">\n",
            "<div class=\"property-features-text\">118m²</div>\n",
            "</div>\n",
            "<div class=\"property-price\">\n",
            "<div class=\"property-price-item\">\n",
            "<div class=\"property-price-type\">comprar</div>\n",
            "<div class=\"property-price-value\">265.000 €</div>\n",
            "</div>\n",
            "</div>\n",
            "</a>, <a class=\"property-info\" href=\"/comprar-moradia-t5-lisboa-restelo-(santa-maria-de-belem)-e66953d6-70b8-11eb-921c-060000000052.html\" onclick=\"Search.setLastSearch('e66953d6-70b8-11eb-921c-060000000052');\" title=\"Ver Moradia T5 para comprar em Lisboa, Restelo (Santa Maria de Belém)\">\n",
            "<div class=\"property-type\">Moradia T5</div>\n",
            "<div class=\"property-location\">Restelo (Santa Maria de Belém), Lisboa, Distrito de Lisboa</div>\n",
            "<div class=\"property-features\">\n",
            "<div class=\"property-features-text\">251m²</div>\n",
            "<div class=\"property-features-tag\">\n",
            "<span>Com Garagem</span>\n",
            "</div>\n",
            "</div>\n",
            "<div class=\"property-price\">\n",
            "<div class=\"property-price-item\">\n",
            "<div class=\"property-price-type\">comprar</div>\n",
            "<div class=\"property-price-value\">1.980.000 €</div>\n",
            "</div>\n",
            "</div>\n",
            "</a>, <a class=\"property-info\" href=\"/comprar-moradia-em-banda-t3-lisboa-ajuda-1845cb84-5c59-11ec-a1b6-060000000053.html\" onclick=\"Search.setLastSearch('1845cb84-5c59-11ec-a1b6-060000000053');\" title=\"Ver Moradia em Banda T3 para comprar em Lisboa, Ajuda\">\n",
            "<div class=\"property-type\">Moradia em Banda T3</div>\n",
            "<div class=\"property-location\">Ajuda, Lisboa, Distrito de Lisboa</div>\n",
            "<div class=\"property-features\">\n",
            "<div class=\"property-features-text\">Para Demolir ou Reconstruir  ·  48m²</div>\n",
            "</div>\n",
            "<div class=\"property-price\">\n",
            "<div class=\"property-price-item\">\n",
            "<div class=\"property-price-type\">comprar</div>\n",
            "<div class=\"property-price-value\">265.000 €</div>\n",
            "</div>\n",
            "</div>\n",
            "</a>, <a class=\"property-info\" href=\"/comprar-moradia-t5-lisboa-arredores-(alvalade)-07a46eb4-58ab-4af7-a5b1-a21419ac5820.html\" onclick=\"Search.setLastSearch('07a46eb4-58ab-4af7-a5b1-a21419ac5820');\" title=\"Ver Moradia T5 para comprar em Lisboa, Arredores (Alvalade)\">\n",
            "<div class=\"property-type\">Moradia T5</div>\n",
            "<div class=\"property-location\">Arredores (Alvalade), Lisboa, Distrito de Lisboa</div>\n",
            "<div class=\"property-features\">\n",
            "<div class=\"property-features-text\">Por recuperar  ·  290m²</div>\n",
            "</div>\n",
            "<div class=\"property-price\">\n",
            "<div class=\"property-price-item\">\n",
            "<div class=\"property-price-type\">comprar</div>\n",
            "<div class=\"property-price-value\">1.600.000 €</div>\n",
            "</div>\n",
            "</div>\n",
            "</a>, <a class=\"property-info\" href=\"/comprar-moradia-t2-lisboa-campolide-6b446982-a07b-11ec-adb9-060000000054.html\" onclick=\"Search.setLastSearch('6b446982-a07b-11ec-adb9-060000000054');\" title=\"Ver Moradia T2 para comprar em Lisboa, Campolide\">\n",
            "<div class=\"property-type\">Moradia T2</div>\n",
            "<div class=\"property-location\">Campolide, Lisboa, Distrito de Lisboa</div>\n",
            "<div class=\"property-features\">\n",
            "<div class=\"property-features-text\">29m²</div>\n",
            "</div>\n",
            "<div class=\"property-price\">\n",
            "<div class=\"property-price-item\">\n",
            "<div class=\"property-price-type\">comprar</div>\n",
            "<div class=\"property-price-value\">150.000 €</div>\n",
            "</div>\n",
            "</div>\n",
            "</a>, <a class=\"property-info\" href=\"/comprar-moradia-t4-lisboa-arroios-anjos-8611d978-e0c2-11e7-950c-00155d01ea12.html\" onclick=\"Search.setLastSearch('8611d978-e0c2-11e7-950c-00155d01ea12');\" title=\"Ver Moradia T4 para comprar em Lisboa, Arroios, Anjos\">\n",
            "<div class=\"property-type\">Moradia T4</div>\n",
            "<div class=\"property-location\">Anjos, Arroios, Lisboa, Distrito de Lisboa</div>\n",
            "<div class=\"property-features\">\n",
            "<div class=\"property-features-text\">450m²</div>\n",
            "<div class=\"property-features-tag\">\n",
            "<span>Com Piscina</span>\n",
            "</div>\n",
            "</div>\n",
            "<div class=\"property-price\">\n",
            "<div class=\"property-price-item\">\n",
            "<div class=\"property-price-type\">comprar</div>\n",
            "<div class=\"property-price-value\">1.900.000 €</div>\n",
            "</div>\n",
            "</div>\n",
            "</a>, <a class=\"property-info\" href=\"/comprar-moradia-t6-ou-superior-lisboa-centro-(sao-vicente-de-fora)-050768a5-f674-11e9-95df-060000000053.html\" onclick=\"Search.setLastSearch('050768a5-f674-11e9-95df-060000000053');\" title=\"Ver Moradia T6 ou superior para comprar em Lisboa, Centro (São Vicente de Fora)\">\n",
            "<div class=\"property-type\">Moradia T10</div>\n",
            "<div class=\"property-location\">Centro (São Vicente de Fora), Lisboa, Distrito de Lisboa</div>\n",
            "<div class=\"property-features\">\n",
            "<div class=\"property-features-text\">900m²</div>\n",
            "</div>\n",
            "<div class=\"property-price\">\n",
            "<div class=\"property-price-item\">\n",
            "<div class=\"property-price-type\">comprar</div>\n",
            "<div class=\"property-price-value\">3.200.000 €</div>\n",
            "</div>\n",
            "</div>\n",
            "</a>, <a class=\"property-info\" href=\"/comprar-moradia-t3-lisboa-campo-de-ourique-005be571-5bdd-4359-b9f0-ddeee3e3a1ee.html\" onclick=\"Search.setLastSearch('005be571-5bdd-4359-b9f0-ddeee3e3a1ee');\" title=\"Ver Moradia T3 para comprar em Lisboa, Campo de Ourique\">\n",
            "<div class=\"property-type\">Moradia T3</div>\n",
            "<div class=\"property-location\">Campo de Ourique, Lisboa, Distrito de Lisboa</div>\n",
            "<div class=\"property-features\">\n",
            "<div class=\"property-features-text\">86m²</div>\n",
            "</div>\n",
            "<div class=\"property-price\">\n",
            "<div class=\"property-price-item\">\n",
            "<div class=\"property-price-type\">comprar</div>\n",
            "<div class=\"property-price-value\">430.000 €</div>\n",
            "</div>\n",
            "</div>\n",
            "</a>, <a class=\"property-info\" href=\"/comprar-moradia-t4-lisboa-parque-das-nacoes-d33e061d-8e82-11ec-883a-060000000053.html\" onclick=\"Search.setLastSearch('d33e061d-8e82-11ec-883a-060000000053');\" title=\"Ver Moradia T4 para comprar em Lisboa, Parque das Nações\">\n",
            "<div class=\"property-type\">Moradia T4 Triplex</div>\n",
            "<div class=\"property-location\">Parque das Nações, Lisboa, Distrito de Lisboa</div>\n",
            "<div class=\"property-features\">\n",
            "<div class=\"property-features-text\">297m²</div>\n",
            "</div>\n",
            "<div class=\"property-price\">\n",
            "<div class=\"property-price-item\">\n",
            "<div class=\"property-price-type\">comprar</div>\n",
            "<div class=\"property-price-value\">1.390.000 €</div>\n",
            "</div>\n",
            "</div>\n",
            "</a>, <a class=\"property-info\" href=\"/comprar-moradia-t4-lisboa-penha-de-franca-4e4dada3-9494-11ec-9c85-060000000052.html\" onclick=\"Search.setLastSearch('4e4dada3-9494-11ec-9c85-060000000052');\" title=\"Ver Moradia T4 para comprar em Lisboa, Penha de França\">\n",
            "<div class=\"property-type\">Moradia T4</div>\n",
            "<div class=\"property-location\">Penha de França, Lisboa, Distrito de Lisboa</div>\n",
            "<div class=\"property-features\">\n",
            "<div class=\"property-features-text\">233m²</div>\n",
            "<div class=\"property-features-tag\">\n",
            "<span>Com Piscina</span>\n",
            "</div>\n",
            "</div>\n",
            "<div class=\"property-price\">\n",
            "<div class=\"property-price-item\">\n",
            "<div class=\"property-price-type\">comprar</div>\n",
            "<div class=\"property-price-value\">1.800.000 €</div>\n",
            "</div>\n",
            "</div>\n",
            "</a>, <a class=\"property-info\" href=\"/comprar-moradia-t4-lisboa-campolide-4296276d-9804-11ec-883a-060000000053.html\" onclick=\"Search.setLastSearch('4296276d-9804-11ec-883a-060000000053');\" title=\"Ver Moradia T4 para comprar em Lisboa, Campolide\">\n",
            "<div class=\"property-type\">Moradia T4</div>\n",
            "<div class=\"property-location\">Campolide, Lisboa, Distrito de Lisboa</div>\n",
            "<div class=\"property-features\">\n",
            "<div class=\"property-features-text\">340m²</div>\n",
            "</div>\n",
            "<div class=\"property-price\">\n",
            "<div class=\"property-price-item\">\n",
            "<div class=\"property-price-type\">comprar</div>\n",
            "<div class=\"property-price-value\">1.400.000 €</div>\n",
            "</div>\n",
            "</div>\n",
            "</a>]\n"
          ]
        }
      ],
      "source": [
        "#contador para percorrer cada página\n",
        "page_count = 0\n",
        "contents = [1]\n",
        "while contents!= []:\n",
        "#for page in range(0,1):\n",
        "    page_count +=1\n",
        "    url = 'https://casa.sapo.pt/comprar-moradias/lisboa/?pn='+str(page_count)\n",
        "    req = requests.get(url, headers = headers)\n",
        "    soup = BeautifulSoup(req.text, 'html.parser')\n",
        "    contents = soup.find_all('a', class_=\"property-info\")\n",
        "    if contents != []:\n",
        "            #price\n",
        "            price = soup.find_all('div', class_=\"property-price-value\")\n",
        "            price = str(price)\n",
        "            price=re.findall(r\"[-+]?[.]?[\\d]+(?:,\\d\\d\\d)*[\\.]?\\d*[\\.]?\\d*\", price)\n",
        "            prices.append(price)\n",
        "            #Localização\n",
        "            loc = soup.find_all('div', class_=\"property-location\")\n",
        "            loc = str(loc)\n",
        "            loc=loc.replace('<div class=\"property-location\">',\"\")\n",
        "            loc=loc.replace(', Lisboa, Distrito de Lisboa</div>',\"\")\n",
        "            loc=loc.replace('</div>',\"\")\n",
        "            locations.append(loc)\n",
        "            #Type\n",
        "            tx = soup.find_all('div', class_=\"property-type\")\n",
        "            tx = str(tx)\n",
        "            tx=tx.replace('<div class=\"property-type\">',\"\")\n",
        "            tx=tx.replace('</div>',\"\")\n",
        "            tx=tx.replace('Moradia',\"\")\n",
        "                #Mantemos só o TXX ou a descrição Duplex, Triplex, em Banda...??\n",
        "            types.append(tx)\n",
        "            #Area/Condição\n",
        "            ar = soup.find_all('div', class_=\"property-features-text\")\n",
        "            ar = str(ar)\n",
        "            ar=ar.replace('<div class=\"property-features-text\">',\"\")\n",
        "            ar=ar.replace('</div>',\"\")\n",
        "            areas.append(ar)\n",
        "            #Link\n",
        "            #link = soup.find_all('a', class_=\"property-info\")\n",
        "            #link = str(link)\n",
        "            #print(link)\n",
        "            #ar=ar.replace('<div class=\"property-features-text\">',\"\")\n",
        "            #ar=ar.replace('</div>',\"\")\n",
        "            #areas.append(ar)\n"
      ]
    },
    {
      "cell_type": "code",
      "execution_count": 82,
      "id": "030c3f15",
      "metadata": {
        "colab": {
          "base_uri": "https://localhost:8080/"
        },
        "id": "030c3f15",
        "outputId": "412d9fe5-615c-4133-8add-b300f23b377e"
      },
      "outputs": [
        {
          "output_type": "stream",
          "name": "stdout",
          "text": [
            "Total de 17 páginas.\n"
          ]
        }
      ],
      "source": [
        "print('Total de {} páginas.'.format(page_count))"
      ]
    },
    {
      "cell_type": "code",
      "execution_count": 83,
      "id": "a557cf0b",
      "metadata": {
        "scrolled": false,
        "colab": {
          "base_uri": "https://localhost:8080/"
        },
        "id": "a557cf0b",
        "outputId": "23048ae6-d3bd-430d-df50-198dab32e430"
      },
      "outputs": [
        {
          "output_type": "stream",
          "name": "stdout",
          "text": [
            "16\n"
          ]
        }
      ],
      "source": [
        "print(len(locations)) #mais localizações do que preços!"
      ]
    },
    {
      "cell_type": "code",
      "execution_count": 84,
      "id": "e3454fca",
      "metadata": {
        "colab": {
          "base_uri": "https://localhost:8080/"
        },
        "id": "e3454fca",
        "outputId": "920d4c32-a336-4879-9956-87532740f043"
      },
      "outputs": [
        {
          "output_type": "stream",
          "name": "stdout",
          "text": [
            "16\n"
          ]
        }
      ],
      "source": [
        "print(len(prices))"
      ]
    }
  ],
  "metadata": {
    "kernelspec": {
      "display_name": "my_env",
      "language": "python",
      "name": "my_env"
    },
    "language_info": {
      "codemirror_mode": {
        "name": "ipython",
        "version": 3
      },
      "file_extension": ".py",
      "mimetype": "text/x-python",
      "name": "python",
      "nbconvert_exporter": "python",
      "pygments_lexer": "ipython3",
      "version": "3.9.7"
    },
    "colab": {
      "name": "projetoA_web_scraping.ipynb",
      "provenance": [],
      "include_colab_link": true
    }
  },
  "nbformat": 4,
  "nbformat_minor": 5
}
