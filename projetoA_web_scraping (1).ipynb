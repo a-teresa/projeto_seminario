{
 "cells": [
  {
   "cell_type": "markdown",
   "id": "245e805c",
   "metadata": {},
   "source": [
    "### Moradias no município de lisboa: pesquisa de atributos"
   ]
  },
  {
   "cell_type": "code",
   "execution_count": 1,
   "id": "78a6e622",
   "metadata": {},
   "outputs": [],
   "source": [
    "from bs4 import BeautifulSoup\n",
    "from requests import get\n",
    "import pandas as pd\n",
    "import itertools\n",
    "import re\n",
    "import requests"
   ]
  },
  {
   "cell_type": "code",
   "execution_count": 43,
   "id": "385e2604",
   "metadata": {},
   "outputs": [],
   "source": [
    "all_pages = 17\n",
    "\n",
    "def get_data(all_pages):  \n",
    "    headers = headers = {'User-Agent': 'Mozilla/5.0 (Windows NT 6.1; WOW64) AppleWebKit/537.36 (KHTML, like Gecko) Chrome/56.0.2924.76 Safari/537.36'} \n",
    "    r = requests.get('https://casa.sapo.pt/comprar-moradias/lisboa/'+str(all_pages)+'?ie=UTF8&pg='+str(all_pages), headers=headers)#, proxies=proxies)\n",
    "    content = r.content\n",
    "    soup = BeautifulSoup(content)\n",
    "    #print(soup)\n",
    "\n",
    "    contents = []\n",
    "    for d in soup.find_all('div', class_=\"property-info\"):\n",
    "        #print(d)\n",
    "        price = d.find_all('div', class_=\"property-price-value\")\n",
    "        price = str(price)\n",
    "        price=re.findall(r\"[-+]?[.]?[\\d]+(?:,\\d\\d\\d)*[\\.]?\\d*[\\.]?\\d*\", price)\n",
    "        #print(n[0]['alt'])\n",
    "        location = d.find_all('div', class_='property-location')\n",
    "        location= re.sub('<[^>]*>', '', loc)\n",
    "        locations= '\\n'.join(location.split(', Lisboa, Distrito de Lisboa,'))\n",
    "        \n",
    "        contents=[]\n",
    "\n",
    "        if price is not None:\n",
    "            #print(price.text)\n",
    "            contents.append(price)\n",
    "        else:\n",
    "            contents.append('0') \n",
    "        \n",
    "        if locations is not None:\n",
    "            #print(price.text)\n",
    "            contents.append(locations)\n",
    "        else:\n",
    "            contents.append('0')    \n",
    "    return contents"
   ]
  },
  {
   "cell_type": "code",
   "execution_count": 44,
   "id": "1ce92173",
   "metadata": {},
   "outputs": [],
   "source": [
    "results = []\n",
    "for i in range(1, all_pages+1):\n",
    "    results.append(get_data(i))\n",
    "f = lambda l: [item for sublist in l for item in sublist]\n",
    "df = pd.DataFrame(f(results),columns=['price','locations'])\n",
    "df.to_csv('houses.csv', index=False, encoding='utf-8')\n"
   ]
  },
  {
   "cell_type": "code",
   "execution_count": 45,
   "id": "e5a1f8bb",
   "metadata": {
    "scrolled": false
   },
   "outputs": [],
   "source": [
    "df = pd.read_csv('houses.csv')"
   ]
  },
  {
   "cell_type": "code",
   "execution_count": null,
   "id": "f05b2eb4",
   "metadata": {},
   "outputs": [],
   "source": []
  }
 ],
 "metadata": {
  "kernelspec": {
   "display_name": "my_env",
   "language": "python",
   "name": "my_env"
  },
  "language_info": {
   "codemirror_mode": {
    "name": "ipython",
    "version": 3
   },
   "file_extension": ".py",
   "mimetype": "text/x-python",
   "name": "python",
   "nbconvert_exporter": "python",
   "pygments_lexer": "ipython3",
   "version": "3.9.7"
  }
 },
 "nbformat": 4,
 "nbformat_minor": 5
}
