{
 "cells": [
  {
   "cell_type": "code",
   "execution_count": 1,
   "id": "c417a907",
   "metadata": {},
   "outputs": [],
   "source": [
    "import pandas as pd\n",
    "import matplotlib as plt\n",
    "import numpy as np\n",
    "%matplotlib inline"
   ]
  },
  {
   "cell_type": "code",
   "execution_count": 2,
   "id": "e0bf2e14",
   "metadata": {},
   "outputs": [],
   "source": [
    "#import dataframe\n",
    "df_apart = pd.read_csv('dados_apartamentos.csv',  encoding = \"Latin-1\", sep=';', header=0)\n",
    "df_houses = pd.read_csv('houses_dados.csv',encoding = \"Latin-1\", sep=';', header=0) \n",
    "df_loc = pd.read_csv('Loc.csv',encoding = \"Latin-1\", sep=';', header=0)"
   ]
  },
  {
   "cell_type": "code",
   "execution_count": 3,
   "id": "8b31e19e",
   "metadata": {},
   "outputs": [],
   "source": [
    "#drop empty columns\n",
    "df_apart = df_apart.drop(['Built year','Characteristics','Mister URL','Unnamed: 13','Unnamed: 14', 'Unnamed: 15', 'Unnamed: 16', 'Unnamed: 17','Unnamed: 18', 'Unnamed: 19', 'Unnamed: 20', 'Unnamed: 21','Unnamed: 22', 'Unnamed: 23'], axis = 1)"
   ]
  },
  {
   "cell_type": "code",
   "execution_count": 4,
   "id": "a6deae7a",
   "metadata": {},
   "outputs": [],
   "source": [
    "#drop duplicated column and Distance (distance from ..?)\n",
    "df_houses=df_houses.drop(['Condition.1', 'Distance', 'Built year','Characteristics'], axis =1)"
   ]
  },
  {
   "cell_type": "code",
   "execution_count": 5,
   "id": "e47fe072",
   "metadata": {},
   "outputs": [],
   "source": [
    "#rename column\n",
    "df_houses.rename(columns={'Entry Date': 'entry_date', 'Property type': 'property_type', 'Areas (sqm)':'areas_sqm','Û/sqm': 'euros/sqm'}, inplace=True)\n",
    "df_apart.rename(columns={'Entry Date': 'entry_date', 'Property type': 'property_type', 'Areas (sqm)':'areas_sqm'}, inplace=True)"
   ]
  },
  {
   "cell_type": "code",
   "execution_count": 6,
   "id": "c21f49c7",
   "metadata": {},
   "outputs": [],
   "source": [
    "# clean sqm from Areas (sqm) \n",
    "#df_apart['areas_sqm'] = df_apart['areas_sqm'].str.extract('(\\d|+)', expand=False)\n",
    "df_apart['areas_sqm'] = df_apart['areas_sqm'].str[:3]\n",
    "#clean latitude and longitude characters\n",
    "df_houses['Latitude'] = df_houses['Latitude'].str.extract('(\\d+)', expand=False)\n",
    "df_houses['Longitude'] = df_houses['Longitude'].str.extract('(\\d+)', expand=False)"
   ]
  },
  {
   "cell_type": "code",
   "execution_count": 7,
   "id": "35568871",
   "metadata": {},
   "outputs": [],
   "source": [
    "#df_loc.Location.unique"
   ]
  },
  {
   "cell_type": "markdown",
   "id": "379c580e",
   "metadata": {},
   "source": [
    "#### Substituir valores nulos de localização: apartamentos"
   ]
  },
  {
   "cell_type": "code",
   "execution_count": 7,
   "id": "2fef50cd",
   "metadata": {},
   "outputs": [],
   "source": [
    "df_apart = df_apart.fillna('0')"
   ]
  },
  {
   "cell_type": "code",
   "execution_count": 8,
   "id": "c6fc6eec",
   "metadata": {},
   "outputs": [],
   "source": [
    "#def transform_apart:\n",
    "#def transform_apart_loc(df_apart):\n",
    "#aradas\n",
    "df_apart.loc[(df_apart.Location =='Aveiro,Aveiro,Aradas') & (df_apart.Latitude=='0'), 'Latitude'] = '40.617500'\n",
    "df_apart.loc[(df_apart.Location =='Aveiro,Aveiro,Aradas') & (df_apart.Longitude=='0'), 'Longitude'] = '-8.647778'\n",
    "#cacia\n",
    "df_apart.loc[(df_apart.Location =='Aveiro,Aveiro,Cacia') & (df_apart.Latitude=='0'), 'Latitude'] = '40.68986486671045'\n",
    "df_apart.loc[(df_apart.Location =='Aveiro,Aveiro,Cacia') & (df_apart.Longitude=='0'), 'Longitude'] = '-8.596442177700911'\n",
    "#eixo e eirol\n",
    "df_apart.loc[(df_apart.Location =='Aveiro,Aveiro,Eixo e Eirol') & (df_apart.Latitude=='0'), 'Latitude'] = '40.613539002802135'\n",
    "df_apart.loc[(df_apart.Location =='Aveiro,Aveiro,Eixo e Eirol') & (df_apart.Longitude=='0'), 'Longitude'] = '-8.536575533587007'\n",
    "#esgueira\n",
    "df_apart.loc[(df_apart.Location =='Aveiro,Aveiro,Esgueira') & (df_apart.Latitude=='0'), 'Latitude'] = '40.64981569436989'\n",
    "df_apart.loc[(df_apart.Location =='Aveiro,Aveiro,Esgueira') & (df_apart.Longitude=='0'), 'Longitude'] = '-8.628535670843293'\n",
    "#santa Joana\n",
    "df_apart.loc[(df_apart.Location =='Aveiro,Aveiro,Santa Joana') & (df_apart.Latitude=='0'), 'Latitude'] = '40.627778'\n",
    "df_apart.loc[(df_apart.Location =='Aveiro,Aveiro,Santa Joana') & (df_apart.Longitude=='0'), 'Longitude'] = '-8.615278'\n",
    "#gloria e vera cruz\n",
    "df_apart.loc[(df_apart.Location =='Aveiro,Aveiro,Glria e Vera Cruz') & (df_apart.Latitude=='0'), 'Latitude'] = '40.633333'\n",
    "df_apart.loc[(df_apart.Location =='Aveiro,Aveiro,Glria e Vera Cruz') & (df_apart.Longitude=='0'), 'Longitude'] = '-8.6525'\n",
    "#sao salvador\n",
    "df_apart.loc[(df_apart.Location =='Aveiro,êlhavo,êlhavo (So Salvador)') & (df_apart.Latitude=='0'), 'Latitude'] = '40.603611'\n",
    "df_apart.loc[(df_apart.Location =='Aveiro,êlhavo,êlhavo (So Salvador)') & (df_apart.Longitude=='0'), 'Longitude'] = '-8.671111'\n",
    "#gafanha encarnacao\n",
    "df_apart.loc[(df_apart.Location =='Aveiro,êlhavo,Gafanha da Encarnao') & (df_apart.Latitude=='0'), 'Latitude'] = '40.621371234222785'\n",
    "df_apart.loc[(df_apart.Location =='Aveiro,êlhavo,Gafanha da Encarnao') & (df_apart.Longitude=='0'), 'Longitude'] = '-8.733032026967937'\n",
    "# sao bernardo\n",
    "df_apart.loc[(df_apart.Location =='Aveiro,Aveiro,So Bernardo') & (df_apart.Latitude=='0'), 'Latitude'] = '40.62030487141338'\n",
    "df_apart.loc[(df_apart.Location =='Aveiro,Aveiro,So Bernardo') & (df_apart.Longitude=='0'), 'Longitude'] = '-8.624948932256144'\n",
    "# gafanha nazaré\n",
    "df_apart.loc[(df_apart.Location =='Aveiro,êlhavo,Gafanha da Nazar') & (df_apart.Latitude=='0'), 'Latitude'] = '40.639276097708986'\n",
    "df_apart.loc[(df_apart.Location =='Aveiro,êlhavo,Gafanha da Nazar') & (df_apart.Longitude=='0'), 'Longitude'] = '-8.701167358115226'\n",
    "#Oliveirinha\n",
    "df_apart.loc[(df_apart.Location =='Aveiro,Aveiro,Oliveirinha') & (df_apart.Latitude=='0'), 'Latitude'] = '40.607778'\n",
    "df_apart.loc[(df_apart.Location =='Aveiro,Aveiro,Oliveirinha') & (df_apart.Longitude=='0'), 'Longitude'] = '-8.591389'\n",
    "#sao jacinto\n",
    "df_apart.loc[(df_apart.Location =='Aveiro,Aveiro,So Jacinto') & (df_apart.Latitude=='0'), 'Latitude'] = '40.66326344089303'\n",
    "df_apart.loc[(df_apart.Location =='Aveiro,Aveiro,So Jacinto') & (df_apart.Longitude=='0'), 'Longitude'] = '-8.728985240138417'\n",
    "   # return df_apart    "
   ]
  },
  {
   "cell_type": "markdown",
   "id": "55d129fa",
   "metadata": {},
   "source": [
    "#### Substituir valores nulos de localização: moradias"
   ]
  },
  {
   "cell_type": "code",
   "execution_count": 9,
   "id": "590c7fd0",
   "metadata": {},
   "outputs": [],
   "source": [
    "# substituir null values\n",
    "df_houses = df_houses.fillna('0')"
   ]
  },
  {
   "cell_type": "code",
   "execution_count": 10,
   "id": "9fadf4d3",
   "metadata": {},
   "outputs": [],
   "source": [
    "#def transform_houses_loc(df_houses):\n",
    "#sao jacinto\n",
    "df_houses.loc[(df_houses.Location =='Aveiro,Aveiro,So Jacinto') & (df_houses.Latitude=='0'), 'Latitude'] = '40.66326344089303'\n",
    "df_houses.loc[(df_houses.Location =='Aveiro,Aveiro,So Jacinto') & (df_houses.Longitude=='0'), 'Longitude'] = '-8.728985240138417'\n",
    "#gafanha encarnacao\n",
    "df_houses.loc[(df_houses.Location =='Aveiro,êlhavo,Gafanha da Encarnao') & (df_houses.Latitude=='0'), 'Latitude'] = '40.621371234222785'\n",
    "df_houses.loc[(df_houses.Location =='Aveiro,êlhavo,Gafanha da Encarnao') & (df_houses.Longitude=='0'), 'Longitude'] = '-8.733032026967937'\n",
    "# gafanha nazare\n",
    "df_houses.loc[(df_houses.Location =='Aveiro,êlhavo,Gafanha da Nazar') & (df_houses.Latitude=='0'), 'Latitude'] = '40.639276097708986'\n",
    "df_houses.loc[(df_houses.Location =='Aveiro,êlhavo,Gafanha da Nazar') & (df_houses.Longitude=='0'), 'Longitude'] = '-8.701167358115226'\n",
    "#gafanha do carmo\n",
    "df_houses.loc[(df_houses.Location =='Aveiro,êlhavo,Gafanha do Carmo') & (df_houses.Latitude=='0'), 'Latitude'] = '40.59135573136268'\n",
    "df_houses.loc[(df_houses.Location =='Aveiro,êlhavo,Gafanha do Carmo') & (df_houses.Longitude=='0'), 'Longitude'] = '-8.740406851742511'\n",
    "#sao salvador\n",
    "df_houses.loc[(df_houses.Location =='Aveiro,êlhavo,êlhavo (So Salvador)') & (df_houses.Latitude=='0'), 'Latitude'] = '40.603611'\n",
    "df_houses.loc[(df_houses.Location =='Aveiro,êlhavo,êlhavo (So Salvador)') & (df_houses.Longitude=='0'), 'Longitude'] = '-8.671111'\n",
    "#Oliveirinha\n",
    "df_houses.loc[(df_houses.Location =='Aveiro,Aveiro,Oliveirinha') & (df_houses.Latitude=='0'), 'Latitude'] = '40.607778'\n",
    "df_houses.loc[(df_houses.Location =='Aveiro,Aveiro,Oliveirinha') & (df_houses.Longitude=='0'), 'Longitude'] = '-8.591389'\n",
    "#gloria e vera cruz\n",
    "df_houses.loc[(df_houses.Location =='Aveiro,Aveiro,Glria e Vera Cruz') & (df_houses.Latitude=='0'), 'Latitude'] = '40.633333'\n",
    "df_houses.loc[(df_houses.Location =='Aveiro,Aveiro,Glria e Vera Cruz') & (df_houses.Longitude=='0'), 'Longitude'] = '-8.6525'\n",
    "#esgueira\n",
    "df_houses.loc[(df_houses.Location =='Aveiro,Aveiro,Esgueira') & (df_houses.Latitude=='0'), 'Latitude'] = '40.64981569436989'\n",
    "df_houses.loc[(df_houses.Location =='Aveiro,Aveiro,Esgueira') & (df_houses.Longitude=='0'), 'Longitude'] = '-8.628535670843293'\n",
    "# sao bernardo\n",
    "df_houses.loc[(df_houses.Location =='Aveiro,Aveiro,So Bernardo') & (df_houses.Latitude=='0'), 'Latitude'] = '40.62030487141338'\n",
    "df_houses.loc[(df_houses.Location =='Aveiro,Aveiro,So Bernardo') & (df_houses.Longitude=='0'), 'Longitude'] = '-8.624948932256144'\n",
    "#santa Joana\n",
    "df_houses.loc[(df_houses.Location =='Aveiro,Aveiro,Santa Joana') & (df_houses.Latitude=='0'), 'Latitude'] = '40.627778'\n",
    "df_houses.loc[(df_houses.Location =='Aveiro,Aveiro,Santa Joana') & (df_houses.Longitude=='0'), 'Longitude'] = '-8.615278'\n",
    "#aradas\n",
    "df_houses.loc[(df_houses.Location =='Aveiro,Aveiro,Aradas') & (df_houses.Latitude=='0'), 'Latitude'] = '40.617500'\n",
    "df_houses.loc[(df_houses.Location =='Aveiro,Aveiro,Aradas') & (df_houses.Longitude=='0'), 'Longitude'] = '-8.647778'\n",
    "#cacia\n",
    "df_houses.loc[(df_houses.Location =='Aveiro,Aveiro,Cacia') & (df_houses.Latitude=='0'), 'Latitude'] = '40.68986486671045'\n",
    "df_houses.loc[(df_houses.Location =='Aveiro,Aveiro,Cacia') & (df_houses.Longitude=='0'), 'Longitude'] = '-8.596442177700911'\n",
    "#senhora de fatima\n",
    "df_houses.loc[(df_houses.Location =='Aveiro,Aveiro,Requeixo, Nossa Senhora de Ftima e Nariz') & (df_houses.Latitude=='0'), 'Latitude'] = '40.59327539168986'\n",
    "df_houses.loc[(df_houses.Location =='Aveiro,Aveiro,Requeixo, Nossa Senhora de Ftima e Nariz') & (df_houses.Longitude=='0'), 'Longitude'] = '-8.53913383260534'\n",
    "    #return df_houses"
   ]
  },
  {
   "cell_type": "markdown",
   "id": "17515a56",
   "metadata": {},
   "source": [
    "#### Corrigir nomes localização (itens com info geral, sem geolocalização) apartamentos"
   ]
  },
  {
   "cell_type": "code",
   "execution_count": 11,
   "id": "51471617",
   "metadata": {},
   "outputs": [],
   "source": [
    "df_apart.loc[(df_apart.Location =='Aveiro,Aveiro,Aradas'), 'Location']='Aveiro, Aradas'\n",
    "df_apart.loc[(df_apart.Location =='Aveiro,Aveiro,Cacia'), 'Location']='Aveiro, Cacia'\n",
    "df_apart.loc[(df_apart.Location =='Aveiro,Aveiro,Eixo e Eirol'), 'Location']='Aveiro, Eixo e Eirol'\n",
    "df_apart.loc[(df_apart.Location =='Aveiro,Aveiro,Esgueira,Portugal, Aveiro, Aveiro, Esgueira'), 'Location']='Aveiro, Esgueira'\n",
    "df_apart.loc[(df_apart.Location =='Aveiro,Aveiro,Santa Joana,Portugal, Aveiro, Aveiro, Santa Joana, Grin'), 'Location']='Aveiro, Santa Joana'\n",
    "df_apart.loc[(df_apart.Location =='Aveiro,Aveiro,Glria e Vera Cruz'), 'Location']='Aveiro, Glória e Vera Cruz'\n",
    "df_apart.loc[(df_apart.Location =='Aveiro,êlhavo,êlhavo (So Salvador),Portugal, Aveiro, êlhavo, So Salvador, Centro'), 'Location']='Ílhavo, São Salvador'\n",
    "df_apart.loc[(df_apart.Location =='Aveiro,êlhavo,Gafanha da Encarnao'), 'Location']= 'Ílhavo, Gafanha da Encarnação'\n",
    "df_apart.loc[(df_apart.Location =='Aveiro,Aveiro,So Bernardo,Portugal, Aveiro, Aveiro, So Bernardo, So Bernardo'), 'Location']='Aveiro, São Bernardo'\n",
    "df_apart.loc[(df_apart.Location =='Aveiro,Aveiro,So Bernardo,Portugal, Aveiro, Aveiro, So Bernardo'), 'Location']='Aveiro, São Bernardo'\n",
    "df_apart.loc[(df_apart.Location =='Aveiro,êlhavo,Gafanha da Nazar'), 'Location']='Ílhavo, Gafanha da Nazaré'\n",
    "df_apart.loc[(df_apart.Location =='Aveiro,Aveiro,Oliveirinha'), 'Location']='Aveiro, Oliveirinha'\n",
    "df_apart.loc[(df_apart.Location =='Aveiro,Aveiro,So Jacinto'), 'Location']='Aveiro, São Jacinto'\n",
    "df_apart.loc[(df_apart.Location =='Aveiro,êlhavo,Gafanha da Nazar\\x8e,Portugal, Aveiro, êlhavo, Gafanha da Nazar\\x8e, Gafanha da Nazar\\x8e'), 'Location']='Ílhavo, Gafanha da Nazaré'\n",
    "df_apart.loc[(df_apart.Location =='Aveiro,êlhavo,Gafanha da Nazar\\x8e,Gafanha da Nazar\\x8e, êlhavo, Aveiro'), 'Location']='Ílhavo, Gafanha da Nazaré'\n",
    "df_apart.loc[(df_apart.Location =='Aveiro,Aveiro,Esgueira,Portugal, Aveiro, Aveiro, Esgueira, Pa\\x8do'), 'Location'] = 'Aveiro, Póvoa do Paço'\n",
    "df_apart.loc[(df_apart.Location =='Aveiro,Aveiro,Cacia,Portugal, Aveiro, Aveiro, Cacia, Povoa do Pa\\x8do'), 'Location'] = 'Aveiro, Póvoa do Paço'\n",
    "df_apart.loc[(df_apart.Location =='Aveiro,Aveiro,Requeixo, Nossa Senhora de F\\x87tima e Nariz,Requeixo, Nossa Senhora de F\\x87tima e Nariz, Aveiro'), 'Location'] = 'Aveiro, Nossa Senhora de Fátima'\n",
    "df_apart.loc[(df_apart.Location =='Aveiro,êlhavo,êlhavo (S\\x8bo Salvador),êlhavo (S\\x8bo Salvador), êlhavo, Aveiro'), 'Location'] = 'Ílhavo, São Salvador'\n",
    "df_apart.loc[(df_apart.Location =='Aveiro,Aveiro,Santa Joana,Santa Joana, Aveiro'), 'Location'] = 'Aveiro, Santa Joana'\n",
    "df_apart.loc[(df_apart.Location =='Aveiro,Aveiro,Aradas,Sem Nome, Aradas, Aveiro'), 'Location'] = 'Aveiro, Aradas'\n",
    "df_apart.loc[(df_apart.Location =='Aveiro,Aveiro,Cacia,Cacia, Aveiro'), 'Location'] = 'Aveiro, Cacia'\n",
    "df_apart.loc[(df_apart.Location =='Aveiro,Aveiro,Aradas,Portugal, Aveiro, Aveiro, Aradas'), 'Location'] = 'Aveiro, Aradas'\n",
    "df_apart.loc[(df_apart.Location =='Aveiro,Aveiro,Cacia,Cacia, Aveiro'), 'Location'] = 'Aveiro, Cacia'\n",
    "df_apart.loc[(df_apart.Location =='Aveiro,Aveiro,Gl\\x97ria e Vera Cruz,Portugal, Aveiro, Aveiro, Gl\\x97ria e Vera Cruz'), 'Location'] = 'Aveiro, Glória e Vera Cruz'\n",
    "df_apart.loc[(df_apart.Location =='Aveiro,Aveiro,Oliveirinha,Oliveirinha, Aveiro'), 'Location'] = 'Aveiro, Oliveirinha'\n",
    "df_apart.loc[(df_apart.Location =='Aveiro,Aveiro,S\\x8bo Bernardo,S\\x8bo Bernardo, Aveiro'), 'Location'] = 'Aveiro, São Bernardo'\n",
    "df_apart.loc[(df_apart.Location =='Aveiro,Aveiro,Eixo e Eirol,Eixo e Eirol, Aveiro'), 'Location'] = 'Aveiro, Eixo e Eirol'\n",
    "df_apart.loc[(df_apart.Location =='Aveiro,Aveiro,Esgueira,Sem Nome, Esgueira, Aveiro'), 'Location'] = 'Aveiro, Esgueira'\n",
    "df_apart.loc[(df_apart.Location =='Aveiro,Aveiro,Esgueira,Esgueira, Aveiro'), 'Location'] = 'Aveiro, Esgueira'\n",
    "df_apart.loc[(df_apart.Location =='Aveiro,êlhavo,Gafanha da Nazar\\x8e,Portugal, Aveiro, êlhavo, Gafanha da Nazar\\x8e, Praia da Barra'), 'Location'] = 'Ílhavo, Praia da Barra'\n",
    "df_apart.loc[(df_apart.Location =='Aveiro,Aveiro,S\\x8bo Bernardo'), 'Location'] = 'Aveiro, São Bernardo'\n",
    "df_apart.loc[(df_apart.Location =='Aveiro,êlhavo,êlhavo (S\\x8bo Salvador)'), 'Location'] = 'Ílhavo, São Salvador'\n",
    "df_apart.loc[(df_apart.Location =='Aveiro,Aveiro,Esgueira'), 'Location'] = 'Aveiro, Esgueira'\n",
    "df_apart.loc[(df_apart.Location =='Aveiro,Aveiro,Cacia,Cacia, Aveiro'), 'Location'] = 'Aveiro, Cacia'\n",
    "df_apart.loc[(df_apart.Location =='Aveiro,Aveiro,Aradas,Aradas, Aveiro'), 'Location'] = 'Aveiro, Aradas'\n"
   ]
  },
  {
   "cell_type": "code",
   "execution_count": 13,
   "id": "eed71bc2",
   "metadata": {},
   "outputs": [],
   "source": [
    "#df_apart['Location'].unique()"
   ]
  },
  {
   "cell_type": "code",
   "execution_count": 12,
   "id": "74e925d9",
   "metadata": {},
   "outputs": [
    {
     "name": "stderr",
     "output_type": "stream",
     "text": [
      "<ipython-input-12-a09e5efec013>:1: FutureWarning: Passing a negative integer is deprecated in version 1.0 and will not be supported in future version. Instead, use None to not limit the column width.\n",
      "  pd.set_option(\"display.max_colwidth\", -1)\n"
     ]
    }
   ],
   "source": [
    "pd.set_option(\"display.max_colwidth\", -1)"
   ]
  },
  {
   "cell_type": "markdown",
   "id": "e2b01be4",
   "metadata": {},
   "source": [
    "#### Corrigir nomes localização (itens com info geral, sem geolocalização) moradias"
   ]
  },
  {
   "cell_type": "code",
   "execution_count": 14,
   "id": "6835d63a",
   "metadata": {},
   "outputs": [],
   "source": [
    "df_houses.loc[(df_houses.Location =='Aveiro,Aveiro,So Jacinto'), 'Location'] = 'Aveiro, São Jacinto'\n",
    "df_houses.loc[(df_houses.Location =='Aveiro,êlhavo,Gafanha da Encarnao'),'Location'] = 'Ílhavo, Gafanha da Encarnação'\n",
    "df_houses.loc[(df_houses.Location =='Aveiro,êlhavo,Gafanha da Encarna\\x8d\\x8bo'),'Location'] = 'Ílhavo, Gafanha da Encarnação'\n",
    "df_houses.loc[(df_houses.Location =='Aveiro,êlhavo,Gafanha da Nazar'),'Location'] = 'Ílhavo, Gafanha da Nazaré'\n",
    "df_houses.loc[(df_houses.Location =='Aveiro,êlhavo,Gafanha da Nazar\\x8e'),'Location'] = 'Ílhavo, Gafanha da Nazaré'\n",
    "df_houses.loc[(df_houses.Location =='Aveiro,êlhavo,Gafanha do Carmo'),'Location'] = 'Ílhavo, Gafanha do Carmo'\n",
    "df_houses.loc[(df_houses.Location =='Aveiro,êlhavo,êlhavo (So Salvador)'),'Location'] = 'Ílhavo, São Salvador'\n",
    "df_houses.loc[(df_houses.Location =='Aveiro,êlhavo,Gafanha da Encarna\\x8d\\x8bo'),'Location'] = 'Ílhavo, Gafanha da Encarnação'\n",
    "df_houses.loc[(df_houses.Location =='Aveiro,êlhavo,êlhavo (S\\x8bo Salvador),Portugal, Aveiro, êlhavo, S\\x8bo Salvador'),'Location'] = 'Ílhavo, São Salvador'\n",
    "df_houses.loc[(df_houses.Location =='Aveiro,Aveiro,S\\x8bo Bernardo'), 'Location'] = 'Aveiro, São Bernardo'\n",
    "df_houses.loc[(df_houses.Location =='Aveiro,Aveiro,Aradas'), 'Location'] = 'Aveiro, Aradas'\n",
    "df_houses.loc[(df_houses.Location =='Aveiro,Aveiro,Esgueira,Portugal, Aveiro, Aveiro, Esgueira, Matadu\\x8dos'), 'Location'] = 'Aveiro, Mataduços'\n",
    "df_houses.loc[(df_houses.Location =='Aveiro,Aveiro,Eixo e Eirol'), 'Location'] = 'Aveiro, Eixo e Eirol'\n",
    "df_houses.loc[(df_houses.Location =='Aveiro,Aveiro,Santa Joana'), 'Location'] = 'Aveiro, Santa Joana'\n",
    "df_houses.loc[(df_houses.Location =='Aveiro,Aveiro,Santa Joana,Portugal, Aveiro, Aveiro, Santa Joana, Azenha de Baixo'), 'Location'] = 'Aveiro, Azenha de Baixo'\n",
    "df_houses.loc[(df_houses.Location =='Aveiro,Aveiro,Requeixo, Nossa Senhora de F\\x87tima e Nariz'), 'Location'] = 'Aveiro, Nossa Senhora de Fátima e Nariz'\n",
    "df_houses.loc[(df_houses.Location =='Aveiro,Aveiro,Gl\\x97ria e Vera Cruz'), 'Location'] = 'Aveiro, Glória e Vera Cruz'\n",
    "df_houses.loc[(df_houses.Location =='Aveiro,Aveiro,Oliveirinha,Oliveirinha, Aveiro'), 'Location'] = 'Aveiro, Oliveirinha'\n",
    "df_houses.loc[(df_houses.Location =='Aveiro,Aveiro,Esgueira,Portugal, Aveiro, Aveiro, Esgueira, Pa\\x8do'), 'Location'] = 'Aveiro, Póvoa do Paço'\n",
    "df_houses.loc[(df_houses.Location =='Aveiro,Aveiro,Cacia,Portugal, Aveiro, Aveiro, Cacia, Povoa do Pa\\x8do'), 'Location'] = 'Aveiro, Póvoa do Paço'"
   ]
  },
  {
   "cell_type": "code",
   "execution_count": 16,
   "id": "8b6b2219",
   "metadata": {},
   "outputs": [],
   "source": [
    "#df_houses['Location'].unique()"
   ]
  },
  {
   "cell_type": "code",
   "execution_count": 17,
   "id": "ea06ad68",
   "metadata": {},
   "outputs": [
    {
     "data": {
      "text/html": [
       "<div>\n",
       "<style scoped>\n",
       "    .dataframe tbody tr th:only-of-type {\n",
       "        vertical-align: middle;\n",
       "    }\n",
       "\n",
       "    .dataframe tbody tr th {\n",
       "        vertical-align: top;\n",
       "    }\n",
       "\n",
       "    .dataframe thead th {\n",
       "        text-align: right;\n",
       "    }\n",
       "</style>\n",
       "<table border=\"1\" class=\"dataframe\">\n",
       "  <thead>\n",
       "    <tr style=\"text-align: right;\">\n",
       "      <th></th>\n",
       "      <th>entry_date</th>\n",
       "      <th>property_type</th>\n",
       "      <th>Tipology</th>\n",
       "      <th>Condition</th>\n",
       "      <th>Location</th>\n",
       "      <th>Price</th>\n",
       "      <th>areas_sqm</th>\n",
       "      <th>euros/sqm</th>\n",
       "      <th>Latitude</th>\n",
       "      <th>Longitude</th>\n",
       "    </tr>\n",
       "  </thead>\n",
       "  <tbody>\n",
       "    <tr>\n",
       "      <th>0</th>\n",
       "      <td>20/07/20</td>\n",
       "      <td>Apartments</td>\n",
       "      <td>T2</td>\n",
       "      <td>Used</td>\n",
       "      <td>Aveiro, Aradas</td>\n",
       "      <td>145000</td>\n",
       "      <td>96</td>\n",
       "      <td>1518</td>\n",
       "      <td>40.617500</td>\n",
       "      <td>-8.647778</td>\n",
       "    </tr>\n",
       "    <tr>\n",
       "      <th>1</th>\n",
       "      <td>20/07/20</td>\n",
       "      <td>Apartments</td>\n",
       "      <td>T2</td>\n",
       "      <td>Used</td>\n",
       "      <td>Aveiro, Aradas</td>\n",
       "      <td>155000</td>\n",
       "      <td>119</td>\n",
       "      <td>1303</td>\n",
       "      <td>40.617500</td>\n",
       "      <td>-8.647778</td>\n",
       "    </tr>\n",
       "    <tr>\n",
       "      <th>2</th>\n",
       "      <td>20/07/20</td>\n",
       "      <td>Apartments</td>\n",
       "      <td>T2</td>\n",
       "      <td>Used</td>\n",
       "      <td>Aveiro, Aradas</td>\n",
       "      <td>118000</td>\n",
       "      <td>72</td>\n",
       "      <td>1639</td>\n",
       "      <td>40.617500</td>\n",
       "      <td>-8.647778</td>\n",
       "    </tr>\n",
       "    <tr>\n",
       "      <th>3</th>\n",
       "      <td>20/07/20</td>\n",
       "      <td>Apartments</td>\n",
       "      <td>T2</td>\n",
       "      <td>Used</td>\n",
       "      <td>Aveiro, Aradas</td>\n",
       "      <td>185000</td>\n",
       "      <td>90</td>\n",
       "      <td>2056</td>\n",
       "      <td>40.617500</td>\n",
       "      <td>-8.647778</td>\n",
       "    </tr>\n",
       "    <tr>\n",
       "      <th>4</th>\n",
       "      <td>20/07/20</td>\n",
       "      <td>Apartments</td>\n",
       "      <td>T2</td>\n",
       "      <td>New</td>\n",
       "      <td>Aveiro, Aradas</td>\n",
       "      <td>295000</td>\n",
       "      <td>126</td>\n",
       "      <td>2351</td>\n",
       "      <td>40.617500</td>\n",
       "      <td>-8.647778</td>\n",
       "    </tr>\n",
       "  </tbody>\n",
       "</table>\n",
       "</div>"
      ],
      "text/plain": [
       "  entry_date property_type Tipology Condition        Location   Price  \\\n",
       "0   20/07/20    Apartments       T2      Used  Aveiro, Aradas  145000   \n",
       "1   20/07/20    Apartments       T2      Used  Aveiro, Aradas  155000   \n",
       "2   20/07/20    Apartments       T2      Used  Aveiro, Aradas  118000   \n",
       "3   20/07/20    Apartments       T2      Used  Aveiro, Aradas  185000   \n",
       "4   20/07/20    Apartments       T2       New  Aveiro, Aradas  295000   \n",
       "\n",
       "  areas_sqm  euros/sqm   Latitude  Longitude  \n",
       "0       96        1518  40.617500  -8.647778  \n",
       "1       119       1303  40.617500  -8.647778  \n",
       "2       72        1639  40.617500  -8.647778  \n",
       "3       90        2056  40.617500  -8.647778  \n",
       "4       126       2351  40.617500  -8.647778  "
      ]
     },
     "execution_count": 17,
     "metadata": {},
     "output_type": "execute_result"
    }
   ],
   "source": [
    "df_apart.head()"
   ]
  },
  {
   "cell_type": "code",
   "execution_count": 18,
   "id": "04b46a70",
   "metadata": {},
   "outputs": [
    {
     "data": {
      "text/plain": [
       "entry_date       0\n",
       "property_type    0\n",
       "Tipology         0\n",
       "Condition        0\n",
       "Location         0\n",
       "Price            0\n",
       "areas_sqm        0\n",
       "euros/sqm        0\n",
       "Latitude         0\n",
       "Longitude        0\n",
       "dtype: int64"
      ]
     },
     "execution_count": 18,
     "metadata": {},
     "output_type": "execute_result"
    }
   ],
   "source": [
    "df_apart.isnull().sum()"
   ]
  },
  {
   "cell_type": "code",
   "execution_count": 16,
   "id": "63ec5361",
   "metadata": {},
   "outputs": [
    {
     "data": {
      "text/html": [
       "<div>\n",
       "<style scoped>\n",
       "    .dataframe tbody tr th:only-of-type {\n",
       "        vertical-align: middle;\n",
       "    }\n",
       "\n",
       "    .dataframe tbody tr th {\n",
       "        vertical-align: top;\n",
       "    }\n",
       "\n",
       "    .dataframe thead th {\n",
       "        text-align: right;\n",
       "    }\n",
       "</style>\n",
       "<table border=\"1\" class=\"dataframe\">\n",
       "  <thead>\n",
       "    <tr style=\"text-align: right;\">\n",
       "      <th></th>\n",
       "      <th>entry_date</th>\n",
       "      <th>property_type</th>\n",
       "      <th>Tipology</th>\n",
       "      <th>Condition</th>\n",
       "      <th>Location</th>\n",
       "      <th>Price</th>\n",
       "      <th>areas_sqm</th>\n",
       "      <th>euros/sqm</th>\n",
       "      <th>Latitude</th>\n",
       "      <th>Longitude</th>\n",
       "    </tr>\n",
       "  </thead>\n",
       "  <tbody>\n",
       "  </tbody>\n",
       "</table>\n",
       "</div>"
      ],
      "text/plain": [
       "Empty DataFrame\n",
       "Columns: [entry_date, property_type, Tipology, Condition, Location, Price, areas_sqm, euros/sqm, Latitude, Longitude]\n",
       "Index: []"
      ]
     },
     "execution_count": 16,
     "metadata": {},
     "output_type": "execute_result"
    }
   ],
   "source": [
    "df_apart.loc[df_apart.Latitude==0]\n"
   ]
  },
  {
   "cell_type": "code",
   "execution_count": 17,
   "id": "f077e3f5",
   "metadata": {},
   "outputs": [
    {
     "data": {
      "text/html": [
       "<div>\n",
       "<style scoped>\n",
       "    .dataframe tbody tr th:only-of-type {\n",
       "        vertical-align: middle;\n",
       "    }\n",
       "\n",
       "    .dataframe tbody tr th {\n",
       "        vertical-align: top;\n",
       "    }\n",
       "\n",
       "    .dataframe thead th {\n",
       "        text-align: right;\n",
       "    }\n",
       "</style>\n",
       "<table border=\"1\" class=\"dataframe\">\n",
       "  <thead>\n",
       "    <tr style=\"text-align: right;\">\n",
       "      <th></th>\n",
       "      <th>Price</th>\n",
       "      <th>euros/sqm</th>\n",
       "    </tr>\n",
       "  </thead>\n",
       "  <tbody>\n",
       "    <tr>\n",
       "      <th>count</th>\n",
       "      <td>3654.000000</td>\n",
       "      <td>3654.000000</td>\n",
       "    </tr>\n",
       "    <tr>\n",
       "      <th>mean</th>\n",
       "      <td>228091.022989</td>\n",
       "      <td>2294.217843</td>\n",
       "    </tr>\n",
       "    <tr>\n",
       "      <th>std</th>\n",
       "      <td>116867.760029</td>\n",
       "      <td>941.272400</td>\n",
       "    </tr>\n",
       "    <tr>\n",
       "      <th>min</th>\n",
       "      <td>55000.000000</td>\n",
       "      <td>498.000000</td>\n",
       "    </tr>\n",
       "    <tr>\n",
       "      <th>25%</th>\n",
       "      <td>145000.000000</td>\n",
       "      <td>1525.000000</td>\n",
       "    </tr>\n",
       "    <tr>\n",
       "      <th>50%</th>\n",
       "      <td>205000.000000</td>\n",
       "      <td>2212.000000</td>\n",
       "    </tr>\n",
       "    <tr>\n",
       "      <th>75%</th>\n",
       "      <td>285000.000000</td>\n",
       "      <td>2845.000000</td>\n",
       "    </tr>\n",
       "    <tr>\n",
       "      <th>max</th>\n",
       "      <td>950000.000000</td>\n",
       "      <td>8727.000000</td>\n",
       "    </tr>\n",
       "  </tbody>\n",
       "</table>\n",
       "</div>"
      ],
      "text/plain": [
       "               Price    euros/sqm\n",
       "count    3654.000000  3654.000000\n",
       "mean   228091.022989  2294.217843\n",
       "std    116867.760029   941.272400\n",
       "min     55000.000000   498.000000\n",
       "25%    145000.000000  1525.000000\n",
       "50%    205000.000000  2212.000000\n",
       "75%    285000.000000  2845.000000\n",
       "max    950000.000000  8727.000000"
      ]
     },
     "execution_count": 17,
     "metadata": {},
     "output_type": "execute_result"
    }
   ],
   "source": [
    "df_apart.describe()"
   ]
  },
  {
   "cell_type": "code",
   "execution_count": 17,
   "id": "07507c13",
   "metadata": {},
   "outputs": [
    {
     "data": {
      "text/html": [
       "<div>\n",
       "<style scoped>\n",
       "    .dataframe tbody tr th:only-of-type {\n",
       "        vertical-align: middle;\n",
       "    }\n",
       "\n",
       "    .dataframe tbody tr th {\n",
       "        vertical-align: top;\n",
       "    }\n",
       "\n",
       "    .dataframe thead th {\n",
       "        text-align: right;\n",
       "    }\n",
       "</style>\n",
       "<table border=\"1\" class=\"dataframe\">\n",
       "  <thead>\n",
       "    <tr style=\"text-align: right;\">\n",
       "      <th></th>\n",
       "      <th>Price</th>\n",
       "    </tr>\n",
       "  </thead>\n",
       "  <tbody>\n",
       "    <tr>\n",
       "      <th>count</th>\n",
       "      <td>5.260000e+02</td>\n",
       "    </tr>\n",
       "    <tr>\n",
       "      <th>mean</th>\n",
       "      <td>3.060615e+05</td>\n",
       "    </tr>\n",
       "    <tr>\n",
       "      <th>std</th>\n",
       "      <td>1.673148e+05</td>\n",
       "    </tr>\n",
       "    <tr>\n",
       "      <th>min</th>\n",
       "      <td>4.500000e+04</td>\n",
       "    </tr>\n",
       "    <tr>\n",
       "      <th>25%</th>\n",
       "      <td>2.050000e+05</td>\n",
       "    </tr>\n",
       "    <tr>\n",
       "      <th>50%</th>\n",
       "      <td>2.825000e+05</td>\n",
       "    </tr>\n",
       "    <tr>\n",
       "      <th>75%</th>\n",
       "      <td>3.800000e+05</td>\n",
       "    </tr>\n",
       "    <tr>\n",
       "      <th>max</th>\n",
       "      <td>1.900000e+06</td>\n",
       "    </tr>\n",
       "  </tbody>\n",
       "</table>\n",
       "</div>"
      ],
      "text/plain": [
       "              Price\n",
       "count  5.260000e+02\n",
       "mean   3.060615e+05\n",
       "std    1.673148e+05\n",
       "min    4.500000e+04\n",
       "25%    2.050000e+05\n",
       "50%    2.825000e+05\n",
       "75%    3.800000e+05\n",
       "max    1.900000e+06"
      ]
     },
     "execution_count": 17,
     "metadata": {},
     "output_type": "execute_result"
    }
   ],
   "source": [
    "df_houses.describe()"
   ]
  },
  {
   "cell_type": "code",
   "execution_count": null,
   "id": "e6a8b9a6",
   "metadata": {},
   "outputs": [],
   "source": []
  },
  {
   "cell_type": "code",
   "execution_count": 24,
   "id": "07907f12",
   "metadata": {
    "scrolled": false
   },
   "outputs": [
    {
     "data": {
      "text/html": [
       "<div>\n",
       "<style scoped>\n",
       "    .dataframe tbody tr th:only-of-type {\n",
       "        vertical-align: middle;\n",
       "    }\n",
       "\n",
       "    .dataframe tbody tr th {\n",
       "        vertical-align: top;\n",
       "    }\n",
       "\n",
       "    .dataframe thead th {\n",
       "        text-align: right;\n",
       "    }\n",
       "</style>\n",
       "<table border=\"1\" class=\"dataframe\">\n",
       "  <thead>\n",
       "    <tr style=\"text-align: right;\">\n",
       "      <th></th>\n",
       "      <th>entry_date</th>\n",
       "      <th>property_type</th>\n",
       "      <th>Tipology</th>\n",
       "      <th>Condition</th>\n",
       "      <th>Location</th>\n",
       "      <th>Price</th>\n",
       "      <th>areas_sqm</th>\n",
       "      <th>euros/sqm</th>\n",
       "      <th>Latitude</th>\n",
       "      <th>Longitude</th>\n",
       "    </tr>\n",
       "  </thead>\n",
       "  <tbody>\n",
       "    <tr>\n",
       "      <th>0</th>\n",
       "      <td>20/07/20</td>\n",
       "      <td>Apartments</td>\n",
       "      <td>T2</td>\n",
       "      <td>Used</td>\n",
       "      <td>Aveiro,Aveiro,Aradas</td>\n",
       "      <td>145000</td>\n",
       "      <td>96</td>\n",
       "      <td>1518</td>\n",
       "      <td>NaN</td>\n",
       "      <td>NaN</td>\n",
       "    </tr>\n",
       "    <tr>\n",
       "      <th>1</th>\n",
       "      <td>20/07/20</td>\n",
       "      <td>Apartments</td>\n",
       "      <td>T2</td>\n",
       "      <td>Used</td>\n",
       "      <td>Aveiro,Aveiro,Aradas</td>\n",
       "      <td>155000</td>\n",
       "      <td>119</td>\n",
       "      <td>1303</td>\n",
       "      <td>NaN</td>\n",
       "      <td>NaN</td>\n",
       "    </tr>\n",
       "    <tr>\n",
       "      <th>2</th>\n",
       "      <td>20/07/20</td>\n",
       "      <td>Apartments</td>\n",
       "      <td>T2</td>\n",
       "      <td>Used</td>\n",
       "      <td>Aveiro,Aveiro,Aradas</td>\n",
       "      <td>118000</td>\n",
       "      <td>72</td>\n",
       "      <td>1639</td>\n",
       "      <td>NaN</td>\n",
       "      <td>NaN</td>\n",
       "    </tr>\n",
       "    <tr>\n",
       "      <th>3</th>\n",
       "      <td>20/07/20</td>\n",
       "      <td>Apartments</td>\n",
       "      <td>T2</td>\n",
       "      <td>Used</td>\n",
       "      <td>Aveiro,Aveiro,Aradas</td>\n",
       "      <td>185000</td>\n",
       "      <td>90</td>\n",
       "      <td>2056</td>\n",
       "      <td>NaN</td>\n",
       "      <td>NaN</td>\n",
       "    </tr>\n",
       "    <tr>\n",
       "      <th>4</th>\n",
       "      <td>20/07/20</td>\n",
       "      <td>Apartments</td>\n",
       "      <td>T2</td>\n",
       "      <td>New</td>\n",
       "      <td>Aveiro,Aveiro,Aradas</td>\n",
       "      <td>295000</td>\n",
       "      <td>126</td>\n",
       "      <td>2351</td>\n",
       "      <td>NaN</td>\n",
       "      <td>NaN</td>\n",
       "    </tr>\n",
       "  </tbody>\n",
       "</table>\n",
       "</div>"
      ],
      "text/plain": [
       "  entry_date property_type Tipology Condition              Location   Price  \\\n",
       "0   20/07/20    Apartments       T2      Used  Aveiro,Aveiro,Aradas  145000   \n",
       "1   20/07/20    Apartments       T2      Used  Aveiro,Aveiro,Aradas  155000   \n",
       "2   20/07/20    Apartments       T2      Used  Aveiro,Aveiro,Aradas  118000   \n",
       "3   20/07/20    Apartments       T2      Used  Aveiro,Aveiro,Aradas  185000   \n",
       "4   20/07/20    Apartments       T2       New  Aveiro,Aveiro,Aradas  295000   \n",
       "\n",
       "  areas_sqm  euros/sqm Latitude Longitude  \n",
       "0       96        1518      NaN       NaN  \n",
       "1       119       1303      NaN       NaN  \n",
       "2       72        1639      NaN       NaN  \n",
       "3       90        2056      NaN       NaN  \n",
       "4       126       2351      NaN       NaN  "
      ]
     },
     "execution_count": 24,
     "metadata": {},
     "output_type": "execute_result"
    }
   ],
   "source": [
    "df_apart.head()"
   ]
  },
  {
   "cell_type": "code",
   "execution_count": 42,
   "id": "0dc7e7e7",
   "metadata": {},
   "outputs": [
    {
     "data": {
      "text/html": [
       "<div>\n",
       "<style scoped>\n",
       "    .dataframe tbody tr th:only-of-type {\n",
       "        vertical-align: middle;\n",
       "    }\n",
       "\n",
       "    .dataframe tbody tr th {\n",
       "        vertical-align: top;\n",
       "    }\n",
       "\n",
       "    .dataframe thead th {\n",
       "        text-align: right;\n",
       "    }\n",
       "</style>\n",
       "<table border=\"1\" class=\"dataframe\">\n",
       "  <thead>\n",
       "    <tr style=\"text-align: right;\">\n",
       "      <th></th>\n",
       "      <th>entry_date</th>\n",
       "      <th>property_type</th>\n",
       "      <th>Tipology</th>\n",
       "      <th>Condition</th>\n",
       "      <th>Location</th>\n",
       "      <th>Price</th>\n",
       "      <th>areas_sqm</th>\n",
       "      <th>euros/sqm</th>\n",
       "      <th>Latitude</th>\n",
       "      <th>Longitude</th>\n",
       "    </tr>\n",
       "  </thead>\n",
       "  <tbody>\n",
       "    <tr>\n",
       "      <th>0</th>\n",
       "      <td>21/02/21</td>\n",
       "      <td>Houses</td>\n",
       "      <td>T4</td>\n",
       "      <td>Used</td>\n",
       "      <td>Aveiro,êlhavo,Gafanha da Encarnao</td>\n",
       "      <td>570000</td>\n",
       "      <td>175</td>\n",
       "      <td>3257,14</td>\n",
       "      <td>NaN</td>\n",
       "      <td>NaN</td>\n",
       "    </tr>\n",
       "    <tr>\n",
       "      <th>1</th>\n",
       "      <td>21/02/21</td>\n",
       "      <td>Houses</td>\n",
       "      <td>T3</td>\n",
       "      <td>Used</td>\n",
       "      <td>Aveiro,êlhavo,Gafanha da Encarnao</td>\n",
       "      <td>320000</td>\n",
       "      <td>258</td>\n",
       "      <td>1240,31</td>\n",
       "      <td>NaN</td>\n",
       "      <td>NaN</td>\n",
       "    </tr>\n",
       "    <tr>\n",
       "      <th>2</th>\n",
       "      <td>21/02/21</td>\n",
       "      <td>Houses</td>\n",
       "      <td>T3</td>\n",
       "      <td>Used</td>\n",
       "      <td>Aveiro,êlhavo,Gafanha da Encarnao</td>\n",
       "      <td>315000</td>\n",
       "      <td>140</td>\n",
       "      <td>2250,00</td>\n",
       "      <td>NaN</td>\n",
       "      <td>NaN</td>\n",
       "    </tr>\n",
       "    <tr>\n",
       "      <th>3</th>\n",
       "      <td>21/02/21</td>\n",
       "      <td>Houses</td>\n",
       "      <td>T4</td>\n",
       "      <td>Used</td>\n",
       "      <td>Aveiro,êlhavo,Gafanha da Encarnao</td>\n",
       "      <td>237000</td>\n",
       "      <td>194</td>\n",
       "      <td>1221,65</td>\n",
       "      <td>NaN</td>\n",
       "      <td>NaN</td>\n",
       "    </tr>\n",
       "    <tr>\n",
       "      <th>4</th>\n",
       "      <td>21/02/21</td>\n",
       "      <td>Houses</td>\n",
       "      <td>T4</td>\n",
       "      <td>Used</td>\n",
       "      <td>Aveiro,êlhavo,Gafanha da Encarnao</td>\n",
       "      <td>580000</td>\n",
       "      <td>193</td>\n",
       "      <td>3005,18</td>\n",
       "      <td>NaN</td>\n",
       "      <td>NaN</td>\n",
       "    </tr>\n",
       "  </tbody>\n",
       "</table>\n",
       "</div>"
      ],
      "text/plain": [
       "  entry_date property_type Tipology Condition  \\\n",
       "0   21/02/21        Houses       T4      Used   \n",
       "1   21/02/21        Houses       T3      Used   \n",
       "2   21/02/21        Houses       T3      Used   \n",
       "3   21/02/21        Houses       T4      Used   \n",
       "4   21/02/21        Houses       T4      Used   \n",
       "\n",
       "                              Location   Price areas_sqm euros/sqm Latitude  \\\n",
       "0  Aveiro,êlhavo,Gafanha da Encarnao  570000       175   3257,14      NaN   \n",
       "1  Aveiro,êlhavo,Gafanha da Encarnao  320000       258   1240,31      NaN   \n",
       "2  Aveiro,êlhavo,Gafanha da Encarnao  315000       140   2250,00      NaN   \n",
       "3  Aveiro,êlhavo,Gafanha da Encarnao  237000       194   1221,65      NaN   \n",
       "4  Aveiro,êlhavo,Gafanha da Encarnao  580000       193   3005,18      NaN   \n",
       "\n",
       "  Longitude  \n",
       "0       NaN  \n",
       "1       NaN  \n",
       "2       NaN  \n",
       "3       NaN  \n",
       "4       NaN  "
      ]
     },
     "execution_count": 42,
     "metadata": {},
     "output_type": "execute_result"
    }
   ],
   "source": [
    "df_houses.head()"
   ]
  },
  {
   "cell_type": "code",
   "execution_count": 31,
   "id": "53006c3b",
   "metadata": {},
   "outputs": [
    {
     "name": "stdout",
     "output_type": "stream",
     "text": [
      "(3654, 10)\n",
      "(526, 10)\n"
     ]
    }
   ],
   "source": [
    "#shape of datasets\n",
    "print(df_apart.shape)\n",
    "print(df_houses.shape)"
   ]
  },
  {
   "cell_type": "code",
   "execution_count": 32,
   "id": "072e76bc",
   "metadata": {},
   "outputs": [
    {
     "name": "stdout",
     "output_type": "stream",
     "text": [
      "entry_date          0\n",
      "property_type       0\n",
      "Tipology            0\n",
      "Condition           0\n",
      "Location            0\n",
      "Price               0\n",
      "areas_sqm           0\n",
      "euros/sqm           0\n",
      "Latitude         1588\n",
      "Longitude        1588\n",
      "dtype: int64\n",
      "entry_date         0\n",
      "property_type      0\n",
      "Tipology           0\n",
      "Condition          0\n",
      "Location           0\n",
      "Price              0\n",
      "areas_sqm          0\n",
      "euros/sqm          0\n",
      "Latitude         142\n",
      "Longitude        142\n",
      "dtype: int64\n"
     ]
    }
   ],
   "source": [
    "#find nulls\n",
    "col_null_apart = df_apart.isnull().sum()\n",
    "col_null_houses = df_houses.isnull().sum()\n",
    "print(col_null_apart)\n",
    "print(col_null_houses)"
   ]
  },
  {
   "cell_type": "code",
   "execution_count": 35,
   "id": "593616c2",
   "metadata": {},
   "outputs": [
    {
     "name": "stdout",
     "output_type": "stream",
     "text": [
      "T2    1457\n",
      "T3    1108\n",
      "T1     569\n",
      "T4     332\n",
      "T0     169\n",
      "T5      19\n",
      "Name: Tipology, dtype: int64\n",
      "T4    223\n",
      "T3    181\n",
      "T2     59\n",
      "T5     41\n",
      "T6     21\n",
      "T1      1\n",
      "Name: Tipology, dtype: int64\n"
     ]
    }
   ],
   "source": [
    "apart_tip = df_apart['Tipology'].value_counts()\n",
    "house_tip = df_houses['Tipology'].value_counts()\n",
    "print(apart_tip)\n",
    "print(house_tip)"
   ]
  },
  {
   "cell_type": "code",
   "execution_count": 33,
   "id": "88501b0c",
   "metadata": {},
   "outputs": [
    {
     "name": "stdout",
     "output_type": "stream",
     "text": [
      "entry_date       object\n",
      "property_type    object\n",
      "Tipology         object\n",
      "Condition        object\n",
      "Location         object\n",
      "Price             int64\n",
      "areas_sqm        object\n",
      "euros/sqm         int64\n",
      "Latitude         object\n",
      "Longitude        object\n",
      "dtype: object\n"
     ]
    }
   ],
   "source": [
    "print(df_apart.dtypes)"
   ]
  },
  {
   "cell_type": "code",
   "execution_count": 34,
   "id": "d31df5fd",
   "metadata": {},
   "outputs": [
    {
     "name": "stdout",
     "output_type": "stream",
     "text": [
      "entry_date       object\n",
      "property_type    object\n",
      "Tipology         object\n",
      "Condition        object\n",
      "Location         object\n",
      "Price             int64\n",
      "areas_sqm        object\n",
      "euros/sqm        object\n",
      "Latitude         object\n",
      "Longitude        object\n",
      "dtype: object\n"
     ]
    }
   ],
   "source": [
    "print(df_houses.dtypes)"
   ]
  },
  {
   "cell_type": "code",
   "execution_count": 41,
   "id": "f018a0d7",
   "metadata": {},
   "outputs": [
    {
     "data": {
      "text/plain": [
       "<AxesSubplot:>"
      ]
     },
     "execution_count": 41,
     "metadata": {},
     "output_type": "execute_result"
    },
    {
     "data": {
      "image/png": "[encoded data removed]",
      "text/plain": [
       "<Figure size 432x288 with 1 Axes>"
      ]
     },
     "metadata": {
      "needs_background": "light"
     },
     "output_type": "display_data"
    }
   ],
   "source": [
    "(apart_tip/df_apart.shape[0]).plot(kind = 'bar')\n",
    "#percentagem de apartamentos por tipologia"
   ]
  },
  {
   "cell_type": "code",
   "execution_count": 42,
   "id": "30e389ce",
   "metadata": {},
   "outputs": [
    {
     "data": {
      "text/plain": [
       "<AxesSubplot:>"
      ]
     },
     "execution_count": 42,
     "metadata": {},
     "output_type": "execute_result"
    },
    {
     "data": {
      "image/png": "[encoded data removed]",
      "text/plain": [
       "<Figure size 432x288 with 1 Axes>"
      ]
     },
     "metadata": {
      "needs_background": "light"
     },
     "output_type": "display_data"
    }
   ],
   "source": [
    "(house_tip/df_houses.shape[0]).plot(kind = 'bar')\n",
    "#percentagem de casas por tipologia"
   ]
  },
  {
   "cell_type": "code",
   "execution_count": 21,
   "id": "4a6fb3e0",
   "metadata": {},
   "outputs": [
    {
     "data": {
      "text/plain": [
       "Tipology\n",
       "T0    132109.467456\n",
       "T1    153714.938489\n",
       "T2    209469.621139\n",
       "T3    270849.129061\n",
       "T4    336612.123494\n",
       "T5    347421.052632\n",
       "Name: Price, dtype: float64"
      ]
     },
     "execution_count": 21,
     "metadata": {},
     "output_type": "execute_result"
    }
   ],
   "source": [
    "#prices by tipology - mean\n",
    "df_apart.groupby(['Tipology']).mean()['Price'].sort_values()"
   ]
  },
  {
   "cell_type": "code",
   "execution_count": 22,
   "id": "c2394006",
   "metadata": {},
   "outputs": [
    {
     "data": {
      "text/plain": [
       "Tipology\n",
       "T1    120000.000000\n",
       "T2    144503.661017\n",
       "T3    278587.237569\n",
       "T6    295095.238095\n",
       "T5    358768.292683\n",
       "T4    363281.838565\n",
       "Name: Price, dtype: float64"
      ]
     },
     "execution_count": 22,
     "metadata": {},
     "output_type": "execute_result"
    }
   ],
   "source": [
    "df_houses.groupby(['Tipology']).mean()['Price'].sort_values()"
   ]
  },
  {
   "cell_type": "code",
   "execution_count": 25,
   "id": "e64048f0",
   "metadata": {},
   "outputs": [
    {
     "data": {
      "text/plain": [
       "Condition\n",
       "Renovated             160614.238095\n",
       "To Recuperate         183681.818182\n",
       "Used                  213328.568642\n",
       "Under Project         225941.904762\n",
       "New                   263283.062130\n",
       "Under Construction    277358.090452\n",
       "Name: Price, dtype: float64"
      ]
     },
     "execution_count": 25,
     "metadata": {},
     "output_type": "execute_result"
    }
   ],
   "source": [
    "#prices by Condition\n",
    "df_apart.groupby(['Condition']).mean()['Price'].sort_values()"
   ]
  },
  {
   "cell_type": "code",
   "execution_count": 26,
   "id": "9fd3b4ba",
   "metadata": {},
   "outputs": [
    {
     "data": {
      "text/plain": [
       "Condition\n",
       "Ruin                  104100.000000\n",
       "To Recuperate         115250.000000\n",
       "Renovated             275000.000000\n",
       "Used                  297259.192661\n",
       "Under Construction    324219.178082\n",
       "New                   348704.687500\n",
       "Under Project         435000.000000\n",
       "Name: Price, dtype: float64"
      ]
     },
     "execution_count": 26,
     "metadata": {},
     "output_type": "execute_result"
    }
   ],
   "source": [
    "df_houses.groupby(['Condition']).mean()['Price'].sort_values()"
   ]
  },
  {
   "cell_type": "code",
   "execution_count": 23,
   "id": "d3071d07",
   "metadata": {},
   "outputs": [],
   "source": [
    "df_apart.to_csv('df1.csv', encoding='utf-8')\n",
    "df_houses.to_csv('df2.csv', encoding='utf-8')"
   ]
  },
  {
   "cell_type": "code",
   "execution_count": null,
   "id": "3e725314",
   "metadata": {},
   "outputs": [],
   "source": []
  }
 ],
 "metadata": {
  "kernelspec": {
   "display_name": "my_env",
   "language": "python",
   "name": "my_env"
  },
  "language_info": {
   "codemirror_mode": {
    "name": "ipython",
    "version": 3
   },
   "file_extension": ".py",
   "mimetype": "text/x-python",
   "name": "python",
   "nbconvert_exporter": "python",
   "pygments_lexer": "ipython3",
   "version": "3.9.7"
  }
 },
 "nbformat": 4,
 "nbformat_minor": 5
}
